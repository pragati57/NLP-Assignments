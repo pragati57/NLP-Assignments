{
  "cells": [
    {
      "cell_type": "markdown",
      "metadata": {
        "id": "R92igdBSbI_I"
      },
      "source": [
        "# Data Cleaning"
      ]
    },
    {
      "cell_type": "markdown",
      "metadata": {
        "id": "OJbQbgQZbI_P"
      },
      "source": [
        "` Data cleaning is a time consuming and unenjoyable task, yet it's a very important one. Keep in mind, \"garbage in, garbage out\".`\n",
        "\n",
        "#### Feeding dirty data into a model will give us results that are meaningless.\n",
        "\n",
        "### Objective:\n",
        "\n",
        "1. Getting the data \n",
        "2. Cleaning the data \n",
        "3. Organizing the data - organize the cleaned data into a way that is easy to input into other algorithms\n",
        "\n",
        "### Output :\n",
        "#### cleaned and organized data in two standard text formats:\n",
        "\n",
        "1. Corpus - a collection of text\n",
        "2. Document-Term Matrix - word counts in matrix format"
      ]
    },
    {
      "cell_type": "markdown",
      "metadata": {
        "id": "4EYB-zxvbI_P"
      },
      "source": [
        "## Problem Statement"
      ]
    },
    {
      "cell_type": "markdown",
      "metadata": {
        "id": "WpMr6FpbbI_P"
      },
      "source": [
        "Look at transcripts of various comedians and note their similarities and differences and find if the stand up comedian of your choice has comedy style different than other comedian.\n"
      ]
    },
    {
      "cell_type": "markdown",
      "metadata": {
        "id": "XuYvmyy7bI_Q"
      },
      "source": [
        "## Getting The Data"
      ]
    },
    {
      "cell_type": "markdown",
      "metadata": {
        "id": "d5_BFdzWbI_Q"
      },
      "source": [
        "You can get the transcripts of some comedian from [Scraps From The Loft](http://scrapsfromtheloft.com). \n",
        "\n",
        "You can take help of IMDB and select only 10 or 20 comedian having highest rating.\n",
        "\n",
        "\n",
        "\n",
        "\n",
        "\n",
        "\n",
        "### For example:"
      ]
    },
    {
      "cell_type": "code",
      "execution_count": null,
      "metadata": {
        "id": "0LN2GDgHbI_Q"
      },
      "outputs": [],
      "source": [
        "# # Web scraping, pickle imports\n",
        "# import requests\n",
        "# from bs4 import BeautifulSoup\n",
        "# import pickle\n",
        "\n",
        "# # Scrapes transcript data from scrapsfromtheloft.com\n",
        "# def url_to_transcript(url):\n",
        "#     '''Returns transcript data specifically from scrapsfromtheloft.com.'''\n",
        "#     page = requests.get(url).text\n",
        "#     soup = BeautifulSoup(page, \"lxml\")\n",
        "#     text = [p.text for p in soup.find(class_=\"post-content\")]\n",
        "#     print(url)\n",
        "#     return text\n",
        "\n",
        "# # URLs of transcripts in scope\n",
        "# urls = ['http://scrapsfromtheloft.com/2017/05/06/louis-ck-oh-my-god-full-transcript/',\n",
        "#         'http://scrapsfromtheloft.com/2017/04/11/dave-chappelle-age-spin-2017-full-transcript/',\n",
        "#         'http://scrapsfromtheloft.com/2018/03/15/ricky-gervais-humanity-transcript/',\n",
        "#         'http://scrapsfromtheloft.com/2017/08/07/bo-burnham-2013-full-transcript/',\n",
        "#         'http://scrapsfromtheloft.com/2017/05/24/bill-burr-im-sorry-feel-way-2014-full-transcript/',\n",
        "#         'http://scrapsfromtheloft.com/2017/04/21/jim-jefferies-bare-2014-full-transcript/',\n",
        "#         'http://scrapsfromtheloft.com/2017/08/02/john-mulaney-comeback-kid-2015-full-transcript/',\n",
        "#         'http://scrapsfromtheloft.com/2017/10/21/hasan-minhaj-homecoming-king-2017-full-transcript/',\n",
        "#         'http://scrapsfromtheloft.com/2017/09/19/ali-wong-baby-cobra-2016-full-transcript/',\n",
        "#         'http://scrapsfromtheloft.com/2017/08/03/anthony-jeselnik-thoughts-prayers-2015-full-transcript/',\n",
        "#         'http://scrapsfromtheloft.com/2018/03/03/mike-birbiglia-my-girlfriends-boyfriend-2013-full-transcript/',\n",
        "#         'http://scrapsfromtheloft.com/2017/08/19/joe-rogan-triggered-2016-full-transcript/']\n",
        "\n",
        "# # Comedian names\n",
        "# comedians = ['louis', 'dave', 'ricky', 'bo', 'bill', 'jim', 'john', 'hasan', 'ali', 'anthony', 'mike', 'joe']"
      ]
    },
    {
      "cell_type": "code",
      "execution_count": null,
      "metadata": {
        "id": "zLYrJNFdbI_R"
      },
      "outputs": [],
      "source": [
        "# # # Actually request transcripts (takes a few minutes to run)\n",
        "# transcripts = [url_to_transcript(u) for u in urls]"
      ]
    },
    {
      "cell_type": "code",
      "source": [
        "import pickle\n",
        "# Comedian names\n",
        "comedians = ['louis', 'dave', 'ricky', 'bo', 'bill', 'jim', 'john', 'hasan', 'ali', 'anthony', 'mike', 'joe']"
      ],
      "metadata": {
        "id": "DRIYbTjgS8T0"
      },
      "execution_count": null,
      "outputs": []
    },
    {
      "cell_type": "code",
      "execution_count": null,
      "metadata": {
        "id": "tGZcfgDJbI_R"
      },
      "outputs": [],
      "source": [
        "# # Pickle files for later use\n",
        "\n",
        "# # Make a new directory to hold the text files\n",
        "# !mkdir transcripts\n",
        "\n",
        "# for i, c in enumerate(comedians):\n",
        "#     with open(\"transcripts/\" + c + \".txt\", \"wb\") as file:\n",
        "#         pickle.dump(transcripts[i], file)"
      ]
    },
    {
      "cell_type": "code",
      "execution_count": null,
      "metadata": {
        "id": "rfMpfJpCbI_S"
      },
      "outputs": [],
      "source": [
        "# Load pickled files\n",
        "data = {} # create empty dictionary\n",
        "for i, c in enumerate(comedians):\n",
        "    with open( \"transcripts/\" + c + \".txt\",\"rb\") as file:\n",
        "        data[c] = pickle.load(file)\n",
        "        print(data[c])\n"
      ]
    },
    {
      "cell_type": "code",
      "source": [
        "print(data['dave'])"
      ],
      "metadata": {
        "id": "xH2EAcza3tnx",
        "colab": {
          "base_uri": "https://localhost:8080/"
        },
        "outputId": "8b30c051-c64f-4909-b680-758d0cf306f3"
      },
      "execution_count": null,
      "outputs": [
        {
          "output_type": "stream",
          "name": "stdout",
          "text": [
            "['This is Dave. He tells dirty jokes for a living. That stare is where most of his hard work happens. It signifies a profound train of thought, the alchemist’s fire that transforms fear and tragedy into levity and livelihood. Dave calls that look “the trance.” ♪ Play me ♪ ♪ Buy me ♪ ♪ Workinonit ♪ ♪ Tune up ♪ ♪ Tune ♪ ♪ Oh ♪ ♪ Fade me ♪ ♪ Ah-ah, ah-ah, ah-ah ♪ ♪ In every ghetto ♪ ♪ Ah-ah, ah-ah, ah-ah ♪ ♪ In every ghetto ♪ ♪ Ah-ah, ah-ah, ah-ah ♪ ♪ In every ghetto ♪ ♪ Ah-ah, ah-ah, ah-ah ♪ ♪ In every ghetto ♪ ♪ Ah-ah, ah-ah, ah-ah ♪ ♪ In every ghetto ♪ ♪ Ah-ah, ah-ah, ah-ah ♪ ♪ In every ghetto ♪ ♪ Ah-ah, ah-ah, ah-ah ♪', 'Thank you! Thank you very much! Thank you all. Oh, wow. That was exciting, wasn’t it? Thank you, guys. Have a seat, feel comfortable, relax. I want to thank everyone in LA for a wonderful week. It’s been great here. You know what? It’s been ten years since the last time I played Los Angeles, if you can imagine. I know! I know, I’ve been gone for a very long time. And unbeknownst to you, it was a difficult ten years. I’m not gonna take you through all the agony I’ve been through, but it was tough. Some of it you might’ve seen.\\nI don’t know if you ever saw on TMZ the big headline: “Dave Chappelle Drunk Onstage in Detroit.” Well, if you saw it, I wasn’t drunk. I had smoked some reefer… with some rappers. Yeah. I don’t know if you know anything about hanging out with rappers, but their weed is very strong, stronger than I what I was accustomed to. The article goes on to say I was booed offstage, which is also incorrect. I was booed. I did not leave. It was a long bomb. It was a fucking nightmare. Two puffs of weed, that’s all it was. Two puffs. I never had that happen, where I take two puffs of weed, I looked at the guy next to me, I was like, “I’m gonna bomb, nigga. I can feel it.” And that guy called my name. “Dave Chappelle!” Niggas was like… Normally, when you do a comedy show– you guys don’t know what it looks like up here, but niggas be just looking up at you like… That’s how the show started. Didn’t take long for their faces to switch up like, “What the fuck?” They started looking amongst themselves. So I knew I wasn’t doing good. I don’t remember what I was saying. It just took one person to break the ice. It was a black lady with a Ford Motor shirt on. Stood up suddenly. “Fuck you, Dave Chappelle!” I said, “Excuse me?” She said, “I worked all week for this shit, and this show sucks!” And in a weird act of racial harmony, a conservative white guy stood up and backed her up. “Yeah!” The whole crowd banded together and started chanting, “We want our money back! We want our money back!” I said, “Oh, shit.” I snapped out of it. “Good people of Detroit, hear me. Hear me now. You will never get your fucking money back.” Fuck that. I said, “I’m like Evel Knievel. I get paid for the attempt. I didn’t promise this shit would be good.” “Boo!” They said, “Fuck you!”\\nThis went on for a long time. And then, after the show, I felt so bad, I took half of the money from the show– thousands of dollars– I said, “I’m gonna give this to charity.” You know what I did? I bought $25,000 worth of bubble gum and drove around Detroit and handed it out to the homeless so they could chew it and still be hungry. I was very mad at Detroit that night. Because not only did I bomb, I had to go back to the very same room the next night and do it all over again. Fucking nightmare.\\nThat would be like if you were having sex with a woman and, for some reason– this would never happen– but for some reason, she had a mousetrap in her pussy. You get caught in the trap. And then you’ve got to fuck her again tomorrow night. I’d still do it, but I’d be careful the next time. The old mousetrap-in-the-pussy trick, eh? Fool me once. Yeah. Yeah, it was a tough time. And I wanted to give up sometimes. I almost did give up, but then, right before I gave up, I decided not to. But I made the call. They answered the phone. “Hello? Dancing with the Stars.” I said, “Not yet. Not yet.” Yeah. If you see me on that shit, it’s over. Trust me. My spirit is broken. If you see me waiting for them judges… getting critiqued on my cha-cha, fuck that.', 'I’ve been hanging out in– I haven’t been working in LA, but I come out here and hang out and shit. I was out here a few weeks ago. I almost got arrested. I’m not bullshitting. This happens to a lot of black people. What happened was… I was coming out of one of those nightclubs in Hollywood, and my friend saw me. I guess I was wobbling or something. So, he just rolled up. He’s a good friend of mine. He’s like, “Hey, Dave, give me the keys.” I was like, “All right, nigga, just take the keys.” And I got in the passenger’s side of my car, and he drove it. It was fine. Just talking, chopping it up. And then, on the 10, the blue-and-whites hit us. Now, I should tell you, the friend that was driving me was black, which really doesn’t have anything to do with the story other than to let you know there was fear in the car. Not my fear. I’m black, but I’m also Dave Chappelle. So, I figured, you know, shit will probably be fine. Traffic stop started off on the right foot. The cops came up to the driver’s side. “Hi. How are you guys doing tonight?” And he recognized me immediately. “Oh. Dave Chappelle.” And I looked at my friend like, “We’re getting out of this shit.” And then he says, “You guys were swerving in the lane. Do you mind just stepping out of the car for a second?” Still no cause for alarm. I looked through the rearview mirror. The body language of the arrest looked good. Just talking. So, then I started fucking with the radio. You know a traffic stop is going good if you’re listening to the radio when someone else is outside of the car. But then, when I looked back in the rearview mirror, something had gone horribly wrong. That motherfucker was back there like… And the next thing I knew, they were stuffing him in the back of the car, and I thought what anybody would think in a situation like that: “Oh, my God. What is gonna happen to me?” And the police walked up to the window. “Mr. Chappelle, we had to arrest your friend. He refused to take our breathalyzer test.” I said, “That motherfucker. Not complying? That’s odd. So, officer, what’s gonna happen to me?” “You’re fine. We’re just gonna have to ask you to step out of the car so we can impound the vehicle, and we’ll arrange for you to have a ride home.” I said, “Oh, well, no. I would rather you just give me the keys.” He said, “Mr. Chappelle, your friend already told us he’s your designated driver. We can’t let you drive in this condition.” I was like, “No, nigga, I’m good.” And then suddenly, the shit turned into Vegas. He was like… “I’ll let you blow for it.” I said, “Excuse me?” He said, “If you blow in my breathalyzer–” I said, “Oh, nigga, I thought you was trying to get your dick sucked. What’s the– Whew! Whew!” “If you blow in my breathalyzer and pass, I’ll give you the keys to the car.” I said, “Uh… set ’em up, nigga. Let’s play.” And I blew in that thing. And it made a noise. “Beep!” I said, “Uh-oh.” And he looked at it. He said, “Oh, well, Mr. Chappelle, I guess you’re free to go.” I said, “I am?” I didn’t know that thing didn’t pick up weed. I drove home on the miles an hour. Yeah, it all worked out. It all worked out. I’m one of the lucky ones.\\nIt doesn’t work out that well for everybody. I saw that videotape of that lady that got beat up in LA in traffic. You see that shit on rush hour traffic? They beat a black woman’s ass. This woman didn’t even do anything wrong. It’s fucked up. It was so fucked up, it didn’t even go to court. The City of L.A. just gave that woman $1.5 million for her pain and suffering. That is not bad, considering that’s the same amount of money that Marcos Maidana made to fight Floyd Mayweather the second time. And this woman obviously hasn’t trained a day in her life. You can see it on the tape. She didn’t come to fight. Her guards were low. She was taking a lot of shots.', 'Everybody’s mad at police now. I watched that– You see that shit on Netflix, Making a Murderer? The Steven Avery story. If you haven’t seen it, check it out. Steven Avery is in more trouble than any white person in the history of the United States has ever been in! In a justice system designed for him to thrive, he’s failed miserably twice. I can’t even wrap my mind around it. If Making a Murderer was about a black dude, that shit would be called Duh! Of course everything would go wrong. Seems like he did it, all right. The motherfucker even had $200,000 for his legal defense. That should get you off in Wisconsin. That’s like OJ money. All he needed to get off that he didn’t have was a single black juror. That’s all it would’ve took. Because only a black dude in the United States can look at other dudes and be like, “I think the police did this shit.” He’s fucked up in the game. That’s how OJ got off.', 'I’ve been watching that new OJ show. I can’t get enough of that shit. Doesn’t it bring back good memories? But I forgot just how polarizing that OJ case was. And you know, I’ve met OJ Simpson on four different occasions in my life. And before the end of the show, I will tell you about each of those occasions. The first time I met OJ Simpson, I was in Santa Monica. -Santa Monica! -Yeah! I can’t believe a black dude was like, “Santa Monica!” You the last nigga I would expect to say that. Let me see your shoes. You got some Vans on, nigga? What you got? “Santa Monica!” You? At the time, I was . I had done a show, and the guy from the club came up and was like, “Hey, OJ Simpson’s here, and he said he wants to meet you.” I said, “What? Fuck yeah!” I ran down the steps, and OJ was down there. He’s like, “Hey, young man. How are you? It’s very good to meet you. And you’re doing really good work, and I hope good things happen for you in your life.” I was like, “Man, thanks, Mr. Juice.” Standing beside him, was– I don’t know the nice way to say this– his soon-to-be-slain wife. Ladies and gentlemen, man the fuck up, or you’re not gonna make it to the end of this show. Just man the fuck up. She’s dead. We already know what happened. We don’t know who did it, but we know what happened. I should tell you, that woman was very nice to me. She actually embraced me. She said, “I think you’re adorable,” and she hugged me. She goes, “Good luck to you,” and she held me for a long time. And I whispered in her ear, “Bitch, are you trying to get us both killed?” I’m just kidding. I didn’t say that, but… that was the first time, in a nutshell.', 'It’s good to see so many… so many different people here from so many different ethnicities. Very diverse crowd. Looks like you thought Bernie Sanders was gonna come out in this motherfucker. But… surprise! It’s me. Yeah. Yeah, you know, I’m happy, really, to see black people come. A lot of black people don’t fuck with me like they used to. But there’s a few reasons you don’t see black people at my shows. One is because, obviously, black people have slower Internet connections. I mean, that would be my guess. I don’t know what– Actually, my own actions drew a wedge between me and the community I hold so dear.', 'A couple of weeks ago, I was supposed to be in Flint, Michigan, for a charity benefit that was supposed to raise awareness for the appalling condition of the water in Flint. I don’t know if you know this, but the water in Flint is fucking poisonous. It’s actually making people sick. Hollywood people are like, “So what? At least they have water.” But this water– this water is fucked up. So, a lot of black celebrities flew into Flint, and they did a tremendous charity benefit, and I was on the schedule to appear.\\nUh… So, the reason a lot of people haven’t heard about this benefit– it was the same day as the Oscars. Right, I know. So, I was on my way to the airport to go to Flint, and then Chris Rock calls me and is like, “Hey, Dave, I got a ticket for you for the Oscars. Can you make it?” And I was like, “Sure, nigga. I’m on my way to the airport right now.” Come on, man. What am I gonna do about that water? What am I, a fucking superhero? I need to have fun. I need to live, too! I didn’t fuck that water up! Stevie Wonder was there. They didn’t need me. I’m sorry, everybody. I’d never been to the Oscars. You’ve seen the movies I make. I was excited.\\nI knew I was gonna get into some trouble, because when I was walking on the red carpet, the black press came after me. “Excuse me, brother.” When you hear somebody call you “brother” too much, something terrible is about to happen. “Excuse me, brother. Brother?” And I looked back, and the motherfucker had a tuxedo with the kente cloth tie. I said, “Uh-oh.” He said, “I just want to ask you a couple questions.” I said, “What publication are you with?” He said, “Me? I’m with The Daily Bongo.” I said, “Daily Bongo? What the fuck? Who the fuck reads this?” He said, “Listen, brother, I just want to ask you a quick question. You understand that this year, this is a boycott for the Oscars. So, I’m just wondering what made you, of all people, cross the motherfucking picket line and be here tonight.” I said, “Boycott? Nigga, I haven’t been working in ten years. What do you mean, boycott? I’ve been on strike. Y’all niggas didn’t stop working. I had to watch fucking Key and Peele do my show every night! So, fuck The Daily Bongo,” is what I said. I went to the Oscars and had a wonderful time. I went in that fucking green room. It was filled with so many stars, I couldn’t even believe what I was seeing. Hollywood was seducing me all over again. I was sitting back there. I’m smoking, drinking with the stars.\\nAnd then two Hollywood movie producers came over, right to me. “Oh, my God. Dave Chappelle,” said the leader one. He was obviously gay. Some guys, you can just tell. The other one seemed like a money guy. Maybe he was from Texas or some shit. But the gay one was definitely the leader because he did all the talking. And then he hit me with: “So, David, um… do you have any movie ideas that you would like to pursue?” The truth is, I don’t. But if you know the game, you’re not supposed to tell motherfuckers you don’t have ideas. I was like, “Yeah, man. I got plenty of ideas.” And he called my bluff. “Really? Like what?” “Huh? Oh. Um… um…”\\nAnd then I just started making up shit that I thought maybe he’d like to see. I said, “I have a superhero idea.” He goes, “Really?” I go, “Yeah. He’s a– He’s a gay superhero.” He was like, “Really?! What’s it called?” “Huh? Oh, it’s called– It’s called Same Hero, New Boots. It’s about a gay sous-chef in San Francisco… that gets bit by a radioactive rat on his shift when he’s taking out the trash and is blessed with powers beyond his wildest dreams, supersonic gay kind of powers. And he starts saving everybody in San Francisco. But at first, he only saves gay people. Later, he saves everybody, and the whole city just falls in love with him. The only problem is, no one remembers him when he saves them.” “Well, I don’t understand. Why wouldn’t they remember him?” I said, “Because, dummy, he’s gay. He keeps changing his outfit. People come up– ‘Thanks for saving me, sir. What’s your name anyway?’ He’s like, ‘Same Hero, New Boots!’ And that motherfucker flies away.”\\nHe was like, “I like it a lot.” The Texan didn’t like that shit at all. He was upset. “That’s impossible, a gay superhero.” I said, “What? Well, I have others. I have a superhero you’d love, ’cause he’s stronger than Superman and he fights for truth, justice and the American way, like Superman, but more than Superman. He beats up Mexicans for no reason.” The Texan’s like, “You got my attention.” I’m like, “Man, this motherfucker’s so strong, he can fly and do all this great shit. Only problem with this guy is he can’t even activate his powers unless he touches– unless he touches a woman’s vagina. Not a long touch, just a couple of pats.” He said, “Well, what’s the problem with that?” I said, “The problem, sir, is that our hero is not a handsome man. And he’s often short on cash. So, whenever trouble breaks out, he has to run around the city and convince women to let him pat their vaginas. ‘Please, miss! That building’s on fire. Can I pat your vagina? Quickly. People are dying!’ But he can’t tell them exactly why. ‘Eww! Get away! You’re gross!’ ‘Please, miss! People are dying! Just a couple of pats!’ ‘Eww! Gross! Get away!’ So, he rapes them.\\nI know, I know. That’s the dilemma for the audience. Because he rapes, but he saves a lot of lives. And he saves way more than he rapes, and he only rapes to save. But he does rape.” I didn’t realize it, but the whole green room was looking at us. All the celebrities were disgusted. “Ohh.” That guy from Texas was like, “Here’s my card. Call me on Monday.” That worked out.', 'The second time I met OJ Simpson. It was right after the trial of the century. There I was, now a young man of probably 23. OJ Simpson was the most famous, or infamous, face on planet Earth. I was in a restaurant in Beverly Hills with my agents. I wasn’t alone in the restaurant, but I was alone. I was the only black person in the restaurant. And in the 90’s, that felt very uncomfortable. Now I tend to enjoy it at this age. I was having dinner with my agents, celebrating a deal that they told me was lucrative, but I later learned fucking sucked. And suddenly, a group of women walked by. Every race was in that group. Black, white, Asian, Latina, white, white… and white again. They were all gorgeous. I watched them walk by. Then I saw a familiar face. Al Cowlings, the man from the infamous Bronco chase, walked by and embraced one of the women, and they walked towards the door. Couldn’t believe what I saw. And then, close behind him, was OJ Simpson, newly released from jail. The restaurant fell still. I was shocked. I didn’t mean to say it out loud, but it just came out. “OJ!” He stopped, turned around to see who said it, saw my black face and correctly assumed it was me. I was sitting in the corner of the booth. He leaned over all the white people I was having dinner with and shook my hand. “How are you, young man?” He looked in my eyes, and I could see in his eyes that he didn’t remember meeting me the first time. And then he walked away. And I looked back at my agents, and all of them had nothing short of disgust on their faces. And the only one with the courage to voice their disgust was a woman named Sharon who used to represent me. “How could you?” she said. “How could you shake hands with that murderer?” I said, “Sharon, with all due respect, that murderer ran for over 11,000 yards. And he was acquitted. So, you know, fuck it. The glove didn’t fit. The glove didn’t fit. Get over yourself.” Some people can’t do that.', 'Some people just can’t get over themselves. Gay people have a hard time doing that recently. Here we go. Here comes the deep water. No, recently I’ve noticed that. I noticed it with that Manny Pacquiao controversy. Yeah, it was– Now, in the gay community’s defense, Manny Pacquiao said some outlandish shit about gay people, very not nice things that I won’t repeat, but there was biblical verses and some analogies to animals. It wasn’t a good look. Nike took his shoes immediately. Which I thought was a little harsh. A little harsh, you know what I mean? Just ’cause he’s Asian. You know what I mean? How the fuck are you gonna take the shoes off an Asian dude to appease a gay dude? You know what I mean? No? You don’t know what I mean. But Asian people kind of know what I mean. No? No Asians in the front? No? No, this is what I mean. Look, you’re an Asian dude– I say this with no disrespect.\\nWe’re all Americans, right? And we can agree that America has a huge body count all over the world, but nowhere more than Asia. Literally, if you look at history, recently, we have bombed the masculinity out of an entire continent. We dropped two atomic bombs on fucking Japan, and they’ve been drawing Hello Kitty and shit ever since. There’s a lot of lady-boys in the wake of our bombs. And I know these things because my wife is Asian. She’s Filipino. All right, okay. So, that explains it. Now you know why you see me at all those Filipino events. I’m not there picking up pussy. I’m dropping some off. I take my wife to all that shit. I took my wife to see Pacquiao fight Mayweather. We sat ringside, okay? That– Yeah, that was a quiet car ride home, that’s what that was.\\nBut if you know what’s popping in the Philippines, you know that they got a whole generation of kids in the Philippines growing up without their mothers. Yes. A lot of women in the Philippines go to the Arabian Peninsula, they come to the United States, they make all their money here, they send all that money back home, which is still one of the number-one staples in the Philippines’ economy– money that the expats send back to the Philippines. The men, on the other hand, are left rearing children, twiddling their thumbs, waiting on their wives’ checks. These men have been fucking emasculated.\\nAnd then suddenly, a boxer rises from amongst them and reinstates their manhood with his motherfucking fist. This is not the guy you’re supposed to ask, “What do you think of homosexuals?” He’s not your champ. Shit. That’s why I don’t have a sneaker deal, ’cause if you say something that people don’t like, they’ll take your fucking shoes off.\\nIf Martin Luther King had a sneaker deal, we’d still be on the back of the bus. It’s true. The Nike exec would come up– “Hi, Martin. Uh… we need you to tone down the talk of civil rights and blacks being humans. It’s upsetting our Southern distributors.” “But I don’t understand. I thought that’s why I had a sneaker deal in the first place.” “Not quite. Really, it’s a walking shoe. And we like the marching, but… Try to understand.” Fuck that shit.\\nYou know, I get it, though. I understand why gay people are mad, and I empathize. You know what? I’m just telling you this as a black dude. I support your movement. But if you want to take some advice from a Negro, pace yourself. These things take a while. Just ’cause they passed the law doesn’t mean they’re gonna like it. Brown v. Board of Education was in.', 'Somebody called me a nigger in traffic last Wednesday. It takes a minute. My wife’s friend Stewart told me that. My wife has a lot of gay friends. Stewart’s their leader. She has a lot of gay friends. And I don’t like ’em. Not ’cause they’re gay. I’m just judging them on the merits of their character. They’re just not nice dudes. They’re fucking rude houseguests. They’re sitting on my couch, giggling with my wife, eating my motherfucking macaroons. Then I come in, and they act like the party’s over. “Hey, Stewart. What’s going on?” This guy talks to me the way a cat would speak if a cat could talk. “Hi, David.” “Stewart, what’s all the beef, man? What’s going–” He always wants to have some kind of gay political argument. The last one was about a petition in federal court to take the words “husband and wife” out of the law. I said, “Why would you want those words out of the law?” He said, “Because it discriminates against same-sex couples.” I was like, “Niggas, please, save me the semantics. Just trust me. Take your chips and get the fuck out of the casino. You’re about to crap out! Just go outside, talk that over amongst yourselves, and whichever one of you is gayer, that’s the wife.” No, no. Stewart didn’t like that. Stewart educates me about this movement. I didn’t even know shit about it. He told me it’s called “LBGTQ!” I was like, “What the fuck is the ‘Q’?” Does that even make sense? “Q”? Turns out “Q” is like the vowels. That shit is sometimes “Y.” It’s for gay dudes that don’t really know they’re gay. Like prison fags who are like, “What? I’m not gay, nigga. I’m just sucking these dicks to pass the time. I’m not ‘G.’ I’m ‘Q.’ Ugh.” I think– Okay, again, of all those letters, the “T” has the toughest road ahead. In fact, I think the “T” should stand for “Tough road ahead.”', 'They’ve got the longest mental gap to bridge. That’s all I’m saying. Because whenever I see one of them Ts on the street, I don’t mind them, but I’ll be like, “Man, I miss Bruce.” I’m sorry, guys. I’m 42. I remember Bruce Jenner. Before the Kardashians, before all that, this motherfucker was a white American superhero. It was amazing. He was beating Africans at track and field. We’d never seen anything like it. He was on my cereal box growing up. You know how much of that cereal I ate? Nigga, I didn’t know he was gonna do that. I knew before you guys knew. I heard things on the street in Hollywood. You’d just be out, see people. “Hey, what’s up, Kanye? Why the long face?” “Nigga, you’ll see. I got two mother-in-laws now.” And when I heard he was gonna do it, I was scared. I didn’t think the public was ready. I didn’t think the media was ready. And you know what? I was wrong. Not only did the public embrace him, but the media was nice. I’d never seen anything like it. “Welcome to the world, Caitlyn. So long, Bruce. Hello, Caitlyn.” I was shocked! Is this happening?\\nWait a minute. Is this a time in American history where an American can make a decision for themselves, and even though other Americans don’t understand it, they’ll support it and let this person live a happy life? Is this what’s happening? If it is, then good for America. That’s Dave Chappelle, the American. Although, Dave Chappelle, the black American, he was a little jealous. I was like, “How the fuck are transgender people beating black people in the discrimination Olympics?” If the police shot half as many transgenders as they did niggas last year, there’d be a fucking war in LA. I know black dudes in Brooklyn– hard street motherfuckers– that wear high heels just to feel safe. Transgenders are gangsters. I used to do business with a transgender in Hollywood. Man, everybody would be scared of her in the boardroom. She’d walk in there, newly-minted woman, high heels, purse. Wouldn’t say anything to us, just walk around the conference table, looking mean and shit. Then she’d walk to the head of the conference table, stare at us all, reach in her purse, pull her old dick out and throw it on the table. “Let’s talk business, gentlemen.” “Aaah!” Shit is scary as fuck. If your best friend pitched that to you, you’d be horrified. “Yo, nigga, let’s go to the hospital and cut our dicks off and make pussies out of them shits.” “What?! Can’t we just get matching jackets or tattoos or something? You sure that’s what you want to do?” “There’s only way to find out, nigga. Wu-Tang! Pow! Pow! Let’s go to the club and trick niggas into fucking us. Yeah.”', 'The third time I met OJ Simpson— The third time I met OJ Simpson, I was doing great in life. I’d just finished the second season of Chappelle’s Show. Man, those were good days. I was playing a comedy club in Miami, The Improv. I don’t know if you’ve ever been, but if you have, you’d know the door for the green room is right on the stage. Can you imagine such a thing? If I walked out of the door of the green room, bam, I was right here, right from the dressing room. And I did that. I walked out, and the whole crowd was like, “Hooray!” And I looked– ma’am, as close as you are to me– I saw him as soon as I came out: The Juice. And I saw recognition in his eyes, and it filled me with pride that he knew who I was. I didn’t acknowledge his presence because it was a white audience, and I didn’t want to start a panic. But I did my show. The show went great. I said, “Good night, everyone.” They all said, “Yay!” And I didn’t say nothing to OJ, but I just gave him the signal to let him know I knew he was there. And I walked into the green room, and OJ was already in there! I was like, “How the fuck is this possible?” I was scared. And then my friends came in, and we all started talking. We sat down on the couch. And I’m just telling you what I saw with my own eyes. You can believe me or not believe me. But in my experience, OJ Simpson– one of the nicest men I’d ever met. He was nice to me. He was nice to my friends. The conversation was filled with warmth and levity, humor and wisdom. We talked for minutes, and then suddenly, the Juice said, “You know what? I’ve got to be going. But it’s good to see you again, and I’m glad things went so well.” I said, “Thanks, Juice.” And my friends said, “Yeah, goodbye, Mr. Juice.” They were new to the game. He said, “No. Thank you… for your hospitality. Good night, guys.“ And we said, “Good night.” And he just walked out of the room. And as soon as the door closed, we all looked at each other like, “That nigga did that shit. Did you feel that? I could feel like… murder in the room.”', 'Well, you young heads missed that shit. You’re all too young. You don’t remember that. -How old are you, young, man? You. -Twenty-four. Twenty-four? You don’t know shit. You don’t know shit! You gotta Google shit that I lived through. See, this is why I lock motherfuckers’ phones up. Seriously. Because the young kids, you guys need to take a break from that– We all need to break just from that technology, just for a minute. You know, I’m from a different time, young man. A dark time to you. I’m from a time that I didn’t even used to know who was on the phone until I answered the shit. Like, when tragedy used to strike.\\nI remember I was 12 years old, and the teacher wheeled a television set into the classroom. You remember these days? And she turned it on to one of three channels. And she said, “Class, the space shuttle is taking off, and we’re all gonna watch it take off.” Man, that shit was going great for like, three to five minutes. That’s right. You remember. It fucking exploded! Right on television. Everybody on board, dead. Immediately presumed dead. It was so bad, the teacher looked at all the kids and was like… “You can go home.” It was a goddamn national tragedy. This was Cold War America. The Russians were laughing at us.', 'My point is, for a guy your age wouldn’t even know the pain, because in your generation, it’s like the space shuttle blows up every fucking day. How can you care about anything when you know every goddamn thing? I’m getting over one cop shooting, and then another one happens, and then another one happens, and another one happens. I’m crying about Paris, and then Brussels happens. I can’t keep track of all this shit. So you just give the fuck up. That’s the hallmark of your generation, and that’s fucked up, because your generation lives in the most difficult time in human history. This is the age of spin. The age where nobody knows what the fuck they’re even looking at. Did you know that Planned Parenthood was for abortions? It’s for people that don’t plan things out at all. That’s right. So, a guy your age doesn’t really know how he feels. Are you pro-choice? Are you anti-consequences? What does it all really mean? It’s easier not to care for you. But for us, we were trained to care. We were raised that way.', 'I used to watch a fucking cartoon when I was growing up called Care Bears. It was about a fucking group of teddy-bear people. They were like teddy bears, but they were like people, and they were all different colors, and they all fucking just walked around, caring. They cared about each other and everything else. They all had different designs on their stomachs, and the designs told you something about what they might be like inside. Very, very loving group of beings. And when shit got real bad, as nice as those teddy bears were, they didn’t get mean faces. They got determined. Hmm! And the leader would say, “Come on, guys. It’s time for the Care Bear Stare!” Remember that shit? And them little teddy bears would lock arms… and stare at the problem– and I’m not even bullshitting– actual love would shoot out of their chests… and would dispel anything that was fucked up. And when we grew up, we wanted to be like those bears. And then we got our hearts broken, because we found out that life wasn’t gonna let us do that and that it’s impossible to shoot love out of your chest.', 'However, I have shot love onto somebody’s chest before. I do it all the time. It’s the next best thing. You kids don’t know. Your generation is just determined to be angry, mad. Everybody’s mad. Back when we were growing up, only black people were mad. Now everybody’s just trying to get in on the act. I try to think to myself, “When did everyone get mad?” And then I realize this happened before we were born. This is a long way to go, but… it probably started in the Second World War. Think about it. All these black men, millions of black men, leave the United States for the first time, go over to Europe with America’s Armed Forces and fight the Nazis and make more money fighting Nazis than they ever dreamed they would make in the United States. And a lot of those men, while they were in Europe– just to be real, not to be crass– a lot of them probably got their dicks sucked by white women. I’m sorry, ladies and gentlemen. This was World War II Europe, and these were desperate times, and penises were being sucked for shoelaces and chocolate and very frivolous things. And it’s very hard to come back to America and sit on the back of the bus after you’ve been in the South of France, getting your dick sucked for a Crunch bar or some crazy shit like that. That’s a life-changing experience. And while that was happening in Europe, here in America, for the first time, women entered the workforce en masse, by the millions. All the men were gone. Someone had to run the factory. The ladies did it. That’s right. This was the first generation of American women to have independent income en masse, and when the men came back, the women weren’t the same. American women had grown. They were uttering phrases that no woman on Earth had ever spoken before, things like, “No” and “Shut the fuck up” and “I don’t feel like it.”\\nAnd then behind the scenes of that, there was a little-known government agency that started testing mind control drugs on the American public. They fucked up. They tested it for 12 years. They didn’t realize these drugs were not mind-controlling. They were mind-expanding. It was LSD and mescaline and shit like that. And for the first time, there was a new school of thought that was chemically induced that made people question the very society they lived in. By 1960, the President of the United States was only 42 years old. Can you imagine? DMX is older than that. And he was gonna usher in a new era of peace. He was gonna avoid the Cold War. He was gonna end segregation. And they blew his fucking brains out in front of everyone in Dallas. This country was never the same. There were seven more major assassinations in the ’60s. Anyone that stood up and said anything was shot down in the streets like a fucking dog. Kennedy, Kennedy, King, X, Evers, on and on. You didn’t even have to be famous. You could be a college student at Kent State, or in Mississippi, protesting the Vietnam War, and they shot them, too.', 'The ’70s were a wild era. And while all this was going on… Bill Cosby raped 54 people. Holy shit. That’s a lot of rapes, man. This guy’s putting up real numbers. He’s like the Steph Curry of rape. Man, that’s a lot of rapes. Fifty-four? If he had raped less people… that’s still two dozen rapes! Don’t forget, each one of these rapes has eight hours of sleep in it. Ladies and gentlemen, that’s over hours of rape. It only takes hours to get a pilot’s license. If rapes were aircrafts, this nigga is Top Gun for sure.\\nYeah, that’s a tough one. And I was onstage not too long ago. I was in Syracuse, New York. Yeah. Well, yeah, for Syracuse. But the show didn’t go so good… all because I was talking about Bill Cosby a little bit. Not a little bit. I’ll be honest. I talked about him for like, minutes. And a woman stood up in the back of the room, and she screamed out, “You are a fucking asshole for saying these things!” “I know.” Instantly, I felt bad. Not bad about what I was saying. I just felt bad like, “Oh, that’s too bad she doesn’t like the show.” I didn’t realize it at first, but not only did she say that, she was rushing the stage. By the time I saw her, I just saw this shadowy figure fucking charging up the aisle towards me in full fight mode. I was horrified. I said, “Oh, my God! I’m gonna kick this bitch in the face.” Lucky for me, I didn’t have to. Security tackled her. But it was a really fucking horrifying scene. A scuffle ensued. And then, finally, she screamed out to me, “Women suffer!” I said, “I know.” And, ladies, I need you to know… that I know. I need you to know. Seriously, there’s a lot of men in this room that identify themselves as feminists. I would include myself in that. Don’t ever forget, we all have mothers and daughters and sisters and wives, and we want to see all these women do well and not be held back by their gender. There’s a lot of men like that in this room. There’s a lot of men like that in the world. Or as we are known on the streets, bitch-ass niggas. But as this woman was wrestling and screaming at me, I started to take offense. And I’ll be honest, race was involved. She was a young white woman. Well-intentioned, but just not thinking it all the way through. “Bitch, how the fuck are you going to yell at a black man about discrimination?” She didn’t get it. She just kept going. “Women suffer!” “I know.” “Women suffer!” “Same team.” “Women suffer!” “I know.” And this is when she went too far: “We suffer just like you.” “Slow your roll, bitch. You suffer, yes, but not like me. Not like us.” She goes, “Suffering is suffering. What’s the difference?” I said, “Come on, white woman, you know what it is. You was in on the heist. You just don’t like your cut.” You suffer, I suffer. You suffer, I suffer. That’s how it works.\\nCan’t do comparative suffering. If you’re hungry, and your friend says, “You know, people are starving in Africa,” “So what, nigga? I still want lunch.” Black people know about comparative suffering, and you know that it’s a fucking dead-end game. Blacks and Jews do that shit to each other all the time. You ever played Who Suffered More with a Jewish person? It’s a tough game. Whenever you think you’ve got the Jewish guy on the ropes, that motherfucker will be like, “Well, don’t forget about Egypt.” “Egypt?! God damn, nigga, I didn’t know we was going all the way back to Egypt.” What the fuck is wrong with her? What does she think? Does she think that I don’t know that rape is wrong? Does she think that maybe I don’t have empathy for Bill Cosby’s alleged victims? And I would be remiss if I didn’t remind you that technically these are all still allegations. Although, I admit it looks very bad. Perhaps if she looked at it correctly, she would have empathy for me, the man she was attacking, a 42-year-old black comedian.\\nObviously, Bill Cosby was a hero to me. And she doesn’t know what it feels like to think that your hero might’ve done something so heinous, my God, you can’t imagine. It’d be as if you heard that chocolate ice cream itself… had raped 54 people. You’d say to yourself, “Oh, man, but I like chocolate ice cream. I don’t want it to rape.” Didn’t want to believe it. At first, I didn’t believe it. I said, “These people are obviously trying to destroy Dr. Cosby’s rich legacy.” Even 34 allegations into it, I was still like, “Man… he probably only raped ten or 11 of those people.” I know, I know. But it’s really tough.', 'You guys are young. Imagine if you found out 40 years from now that Kevin Hart raped 54 people. You’d be like, “Oh, my God.” The only one that would believe that would be Katt Williams. He’d be like, “I knew that motherfucker was up to something! I knew Kevin had raped those people.” You know, I was mad at Kevin, too, though. You know why? Okay, first of all, I didn’t even know Kevin was as successful as he was. I found that shit out the hard way. I was at home when my son busted in. He said, “Dad, I need $250.” He’s only years old, so I freaked out. “What’s going on, nigga? Is somebody trying to kill you?” He said, “No, no. Kevin Hart’s coming to town, and I wanted to see his show.” I said, “How much are the tickets?” He said, “They’re $125.” I said, “God damn! Mine are only 80.” I said, “Why do you need $250, then?” He goes, “Because I want to go with you, Dad. Please? And there it is. So, I took him to the show. And we go, we sit right up front. The lights go down, and one opening act after another goes on. Then Kevin takes the stage. The crowd goes fucking nuts. Thousands of people. I was furious. The longer the show went on, the madder I got. Because his show was fucking outstanding. It was maddening. These people were fucking holding their stomachs. My son was slapping his knee. I’m like, “Damn, nigga, I do this, too.” Kevin says, “Good night.” The crowd goes crazy. And then everyone starts walking to his door, and the lights come on, and then my son is just standing there, looking at an empty stage. People are pushing past me, and nobody’s recognizing me. I’m like, “Man, this place fucking sucks!” I said, “Come on, son, let’s get out of here.” Then my son looks back at me and says, “Dad, please. Please, I have to meet him.” I was like, “Oh, my God.” So, I took him backstage. I’ve known Kevin for years, but can you believe I was scared to knock on his dressing room door? I almost said… “Son, I haven’t seen him for a long time.” And one of Kevin’s goons opened the door. “Hey, what’s up, Dave Chappelle? What are you doing, man? It’s good to see you, brother. What are you doing in this area? This is a terrible area.” I’m like, “Actually, I live around here. Listen… is Kevin here? My son just wanted to meet him real quick.” “I don’t know, ’cause Kevin’s about to eat dinner.” Just then, Kevin came around the corner to see who it was. “What? Oh, shit! What’s up, Dave? Come on back. I was just about to have dinner. I don’t know if you guys ate, but you’re welcome to join me if you’d like.” And then my son pushed passed me. It was some cold shit. He goes, “Actually, Mr. Hart, we haven’t eaten in several hours.” Man, Kevin took us into his back room. This guy had a fucking spread. It was Tuesday night. This motherfucker was having Sunday dinner. There were steaks, chops, corn with butter all over it. My son was eating all fast, embarrassing me. I was like, “Slow down, son.” He was like… Then I looked over in the corner, and there was a box of custom-made jerseys for the local team. Each one was hand-stitched, and on the back, they stitched on “K-Hart” on all of them. Kevin saw me staring at that box, and he went over and grabbed one of them jerseys, and he walked right to my son. He said, “Hey, little man. I want you to have this.” And my son was like, “Thanks, Mr. Hart.” This is when I got mad. He goes, “If your father ever makes you mad, put that on.” And he walked out. Oh, that was some cold shit. Then I realized– I looked up what Kevin made on Google. I couldn’t believe that shit. Kevin is the first comedian that a Drake song could be about. Kevin could walk around his house and sing “All Me,” and the whole song would still be true.', '“♪ Got everything, I got everything ♪ ♪ I cannot complain, I cannot ♪ ♪ I don’t even know How much I really made ♪ ♪ I forgot, it’s a lot ♪ ♪ Fuck that, never mind what I got ♪” And his wife will be like, “Kevin, come to bed!” He’ll be like… “♪ Ho, shut the fuck up ♪ ♪ I got way too much– ♪”', 'You know how much money you have to have to tell a girl to shut the fuck up? I have “Quiet, please” money at best. I’d have to take a loan out for “Shut the fuck up.” “Shut the fuck up–” That’s Jay Z money. And Beyoncé got “No, you shut the fuck up” money.', 'Let’s not forget. Let’s not forget. I’ve never met Bill Cosby, so I’m not defending him. Let’s just remember that he has a valuable legacy that I can’t just throw away. I remember that he’s the first black man to ever win an Emmy in television. I also remember that he’s the first guy to make a cartoon with black characters where their lips and noses were drawn proportionately. I remember that he had a television show that got numbers equivalent to the Super Bowl every Thursday night. And I remember that he partnered up with a clinical psychologist to make sure that there was not one negative image of African-Americans on his show. I’m telling you, that’s no small thing. I’ve had a television show. I wouldn’t have done that shit. He gave tens of millions of dollars to African-American institutions of higher learning, and is directly responsible for thousands of black kids going to college. Not just the ones he raped. Here comes the kicker. You ready? Here’s the fact that I heard, but haven’t confirmed. I heard that when Martin Luther King stood on the steps of the Lincoln Memorial and said he had a dream, he was speaking into a PA system that Bill Cosby paid for. So, you understand what I’m saying? The point is this: He rapes, but he saves. And he saves more than he rapes. But he probably does rape. Thank you very much! Good night!', '♪ Ah-ah, ah-ah ♪ ♪ In every ghetto ♪ ♪ Ah-ah, ah-ah, ah-ah ♪ ♪ In every ghetto ♪ ♪ Ah-ah, ah-ah, ah-ah ♪ ♪ In every ghetto ♪ ♪ Ah-ah, ah-ah, ah-ah ♪ ♪ In every ghetto ♪', 'Wait, wait, wait, wait, wait! I forgot. The fourth time I met OJ Simpson. The fourth time is not the funniest time, but it was the last time I’d see the Juice. For some reason, I was at the Kentucky Derby. It’s a very long story. This is right after I quit Chappelle’s Show in spectacular fashion. There was a party hosted by Michael Jordan, and every athlete I’ve ever admired was in that room. Yes. And then I saw a familiar face by the bar, standing there, drinking alone. It was Chris Tucker. Now… you have to remember, at this time, we were both technically missing. And we went over, and we’re talking with one another, and motherfuckers were amazed to see us together. Seeing me and Chris Tucker at that point would be like seeing Bigfoot riding a unicorn. You wouldn’t believe that’s what you were seeing. And then, through all the gawkers, a familiar face pushed through the crowd. Here he was again. The Juice. He had his camera ready. He was like, “Dave, Chris. Good to see you guys. Hey, come on, guys. Let’s all get together for a picture.” And at the same time, me and Chris were like, “No. I can’t do that. Sorry, Juice, my career is too flimsy to survive a picture with you.” That’s the end. Good night.', '♪ Ah-ah, ah-ah ♪ ♪ In every ghetto ♪ ♪ Ah-ah ♪ ♪ Revolution ♪ ♪ Ah-ah, ah-ah, ah-ah ♪ ♪ In every ghetto… ♪', 'One last thing. Before you go, I just wanted to acknowledge for the real comedy fans. We can’t not acknowledge it. We lost a fucking juggernaut in comedy this week. So, I’m just shouting out the family and friends of Garry Shandling. Much love to you guys. My sincerest condolences. And for the hip-hop fans in the building… put two fingers up in the air for A Tribe Called Quest and my man Phife Dawg. May he rest in peace forever and ever. Thank you for that beautiful music. Good night, everybody. Thank you. Twos up! Twos up! Hands up, hands up! Twos up! We’re gonna do this for Phife! I need everybody to rap with me right now!', '♪ Can I kick it? ♪ ♪ Yes, you can ♪ ♪ Can I kick it? ♪ ♪ Yes, you can ♪ ♪ Can I kick it? ♪ ♪ Yes, you can ♪ ♪ Well, I’m gone ♪ ♪ Go on, then ♪ ♪ Can I kick it? To my Tribe that flows in layers ♪ ♪ Right now, Phife is a poem sayer ♪ ♪ At times, I’m a studio conveyor ♪ ♪ Mr. Dinkins Would you please be my mayor? ♪ ♪ You’ll be doing us a really big favor ♪ ♪ Boy, this track really has a lot Of flavor ♪ ♪ When it comes to rhythms Quest is your savior ♪ ♪ Follow us for the funky behavior ♪ ♪ Make a note On the rhythm we gave ya ♪  ♪ Feel free, drop your pants Check your hair ♪ ♪ Do you like the garments That we wear? ♪ ♪ I instruct you to be the obeyer ♪ ♪ A rhythm recipe that you’ll savor ♪ ♪ Doesn’t matter if you’re minor Or major ♪ ♪ Yes, the Tribe of the game We’re the player ♪ ♪ As you inhale Like a breath of fresh air ♪ I’m rich, biatch!']\n"
          ]
        }
      ]
    },
    {
      "cell_type": "code",
      "execution_count": null,
      "metadata": {
        "id": "kum2ctIsbI_S",
        "colab": {
          "base_uri": "https://localhost:8080/"
        },
        "outputId": "8a668bea-7633-460f-c251-ff6fbe12ac26"
      },
      "outputs": [
        {
          "output_type": "execute_result",
          "data": {
            "text/plain": [
              "dict_keys(['louis', 'dave', 'ricky', 'bo', 'bill', 'jim', 'john', 'hasan', 'ali', 'anthony', 'mike', 'joe'])"
            ]
          },
          "metadata": {},
          "execution_count": 19
        }
      ],
      "source": [
        "# Double check to make sure data has been loaded properly\n",
        "data.keys()"
      ]
    },
    {
      "cell_type": "code",
      "execution_count": null,
      "metadata": {
        "id": "TTBdnz7VbI_S"
      },
      "outputs": [],
      "source": [
        "# More checks\n",
        "data['louis'][:2]"
      ]
    },
    {
      "cell_type": "markdown",
      "metadata": {
        "id": "3_3RdH9obI_S"
      },
      "source": [
        "## Cleaning The Data"
      ]
    },
    {
      "cell_type": "markdown",
      "metadata": {
        "id": "5kGJUf10bI_S"
      },
      "source": [
        "When dealing with numerical data, data cleaning often involves removing null values and duplicate data, dealing with outliers, etc. With text data, there are some common data cleaning techniques, which are also known as text pre-processing techniques.\n",
        "\n",
        "With text data, this cleaning process can go on forever. There's always an exception to every cleaning step. So, we're going to follow the MVP (minimum viable product) approach - start simple and iterate.\n",
        "### Assignment:\n",
        "1. Perform the following data cleaning on transcripts:\n",
        "\n",
        "i) Make text all lower case\n",
        "\n",
        "ii) Remove punctuation\n",
        "\n",
        "iii) Remove numerical values\n",
        "\n",
        "iv) Remove common non-sensical text (/n)\n",
        "\n",
        "v) Tokenize text\n",
        "\n",
        "vi) Remove stop words"
      ]
    },
    {
      "cell_type": "code",
      "execution_count": null,
      "metadata": {
        "colab": {
          "base_uri": "https://localhost:8080/"
        },
        "id": "4_rjeD2FbI_S",
        "outputId": "8802e74f-96b9-431b-e987-8489b99e5129"
      },
      "outputs": [
        {
          "output_type": "execute_result",
          "data": {
            "text/plain": [
              "'louis'"
            ],
            "application/vnd.google.colaboratory.intrinsic+json": {
              "type": "string"
            }
          },
          "metadata": {},
          "execution_count": 21
        }
      ],
      "source": [
        "# Let's take a look at our data again\n",
        "next(iter(data.keys()))"
      ]
    },
    {
      "cell_type": "code",
      "execution_count": null,
      "metadata": {
        "id": "JCyLzcbLbI_T"
      },
      "outputs": [],
      "source": [
        "# Notice that our dictionary is currently in key: comedian, value: list of text format\n",
        "next(iter(data.values()))"
      ]
    },
    {
      "cell_type": "code",
      "source": [
        "data['dave'][:2]"
      ],
      "metadata": {
        "id": "ode8uhvN8OZO"
      },
      "execution_count": null,
      "outputs": []
    },
    {
      "cell_type": "code",
      "execution_count": null,
      "metadata": {
        "collapsed": true,
        "id": "q6j6Y8M6bI_T"
      },
      "outputs": [],
      "source": [
        "# We are going to change this to key: comedian, value: string format\n",
        "def combine_text(list_of_text):\n",
        "    '''Takes a list of text and combines them into one large chunk of text.'''\n",
        "    combined_text = ' '.join(list_of_text)\n",
        "    return combined_text"
      ]
    },
    {
      "cell_type": "code",
      "execution_count": null,
      "metadata": {
        "collapsed": true,
        "id": "Um8YucycbI_T"
      },
      "outputs": [],
      "source": [
        "# Combine it!\n",
        "data_combined = {key: [combine_text(value)] for (key, value) in data.items()}"
      ]
    },
    {
      "cell_type": "code",
      "execution_count": null,
      "metadata": {
        "id": "dBcLhEP6bI_T",
        "colab": {
          "base_uri": "https://localhost:8080/"
        },
        "outputId": "657ae9a6-f848-4424-c03e-0ad0778bd504"
      },
      "outputs": [
        {
          "output_type": "execute_result",
          "data": {
            "text/plain": [
              "                                                                                                                                                    transcript\n",
              "ali      Ladies and gentlemen, please welcome to the stage: Ali Wong! Hi. Hello! Welcome! Thank you! Thank you for coming. Hello! Hello. We are gonna have ...\n",
              "anthony  Thank you. Thank you. Thank you, San Francisco. Thank you so much. So good to be here. People were surprised when I told ’em I was gonna tape my s...\n",
              "bill     [cheers and applause] All right, thank you! Thank you very much! Thank you. Thank you. Thank you. How are you? What’s going on? Thank you. It’s a ...\n",
              "bo       Bo What? Old MacDonald had a farm E I E I O And on that farm he had a pig E I E I O Here a snort There a Old MacDonald had a farm E I E I O [Appla...\n",
              "dave     This is Dave. He tells dirty jokes for a living. That stare is where most of his hard work happens. It signifies a profound train of thought, the ...\n",
              "hasan    [theme music: orchestral hip-hop] [crowd roars] What’s up? Davis, what’s up? I’m home. I had to bring it back here. Netflix said, “Where do you wa...\n",
              "jim      [Car horn honks] [Audience cheering] [Announcer] Ladies and gentlemen, please welcome to the stage Mr. Jim Jefferies! [Upbeat music playing] Hello...\n",
              "joe      [rock music playing] [audience cheering] [announcer] Ladies and gentlemen, welcome Joe Rogan. [audience cheering and applauding] What the fuck is ...\n",
              "john     All right, Petunia. Wish me luck out there. You will die on August 7th, 2037. That’s pretty good. All right. Hello. Hello, Chicago. Nice to see yo...\n",
              "louis    Intro\\nFade the music out. Let’s roll. Hold there. Lights. Do the lights. Thank you. Thank you very much. I appreciate that. I don’t necessarily a...\n",
              "mike     Wow. Hey, thank you. Thanks. Thank you, guys. Hey, Seattle. Nice to see you. Look at this. Look at us. We’re here. This is crazy. It’s insane. So ...\n",
              "ricky    Hello. Hello! How you doing? Great. Thank you. Wow. Calm down. Shut the fuck up. Thank you. What a lovely welcome. I’m gonna try my hardest tonigh..."
            ],
            "text/html": [
              "\n",
              "  <div id=\"df-acbe47d0-62a6-4e18-b73f-d8608ddf48d9\">\n",
              "    <div class=\"colab-df-container\">\n",
              "      <div>\n",
              "<style scoped>\n",
              "    .dataframe tbody tr th:only-of-type {\n",
              "        vertical-align: middle;\n",
              "    }\n",
              "\n",
              "    .dataframe tbody tr th {\n",
              "        vertical-align: top;\n",
              "    }\n",
              "\n",
              "    .dataframe thead th {\n",
              "        text-align: right;\n",
              "    }\n",
              "</style>\n",
              "<table border=\"1\" class=\"dataframe\">\n",
              "  <thead>\n",
              "    <tr style=\"text-align: right;\">\n",
              "      <th></th>\n",
              "      <th>transcript</th>\n",
              "    </tr>\n",
              "  </thead>\n",
              "  <tbody>\n",
              "    <tr>\n",
              "      <th>ali</th>\n",
              "      <td>Ladies and gentlemen, please welcome to the stage: Ali Wong! Hi. Hello! Welcome! Thank you! Thank you for coming. Hello! Hello. We are gonna have ...</td>\n",
              "    </tr>\n",
              "    <tr>\n",
              "      <th>anthony</th>\n",
              "      <td>Thank you. Thank you. Thank you, San Francisco. Thank you so much. So good to be here. People were surprised when I told ’em I was gonna tape my s...</td>\n",
              "    </tr>\n",
              "    <tr>\n",
              "      <th>bill</th>\n",
              "      <td>[cheers and applause] All right, thank you! Thank you very much! Thank you. Thank you. Thank you. How are you? What’s going on? Thank you. It’s a ...</td>\n",
              "    </tr>\n",
              "    <tr>\n",
              "      <th>bo</th>\n",
              "      <td>Bo What? Old MacDonald had a farm E I E I O And on that farm he had a pig E I E I O Here a snort There a Old MacDonald had a farm E I E I O [Appla...</td>\n",
              "    </tr>\n",
              "    <tr>\n",
              "      <th>dave</th>\n",
              "      <td>This is Dave. He tells dirty jokes for a living. That stare is where most of his hard work happens. It signifies a profound train of thought, the ...</td>\n",
              "    </tr>\n",
              "    <tr>\n",
              "      <th>hasan</th>\n",
              "      <td>[theme music: orchestral hip-hop] [crowd roars] What’s up? Davis, what’s up? I’m home. I had to bring it back here. Netflix said, “Where do you wa...</td>\n",
              "    </tr>\n",
              "    <tr>\n",
              "      <th>jim</th>\n",
              "      <td>[Car horn honks] [Audience cheering] [Announcer] Ladies and gentlemen, please welcome to the stage Mr. Jim Jefferies! [Upbeat music playing] Hello...</td>\n",
              "    </tr>\n",
              "    <tr>\n",
              "      <th>joe</th>\n",
              "      <td>[rock music playing] [audience cheering] [announcer] Ladies and gentlemen, welcome Joe Rogan. [audience cheering and applauding] What the fuck is ...</td>\n",
              "    </tr>\n",
              "    <tr>\n",
              "      <th>john</th>\n",
              "      <td>All right, Petunia. Wish me luck out there. You will die on August 7th, 2037. That’s pretty good. All right. Hello. Hello, Chicago. Nice to see yo...</td>\n",
              "    </tr>\n",
              "    <tr>\n",
              "      <th>louis</th>\n",
              "      <td>Intro\\nFade the music out. Let’s roll. Hold there. Lights. Do the lights. Thank you. Thank you very much. I appreciate that. I don’t necessarily a...</td>\n",
              "    </tr>\n",
              "    <tr>\n",
              "      <th>mike</th>\n",
              "      <td>Wow. Hey, thank you. Thanks. Thank you, guys. Hey, Seattle. Nice to see you. Look at this. Look at us. We’re here. This is crazy. It’s insane. So ...</td>\n",
              "    </tr>\n",
              "    <tr>\n",
              "      <th>ricky</th>\n",
              "      <td>Hello. Hello! How you doing? Great. Thank you. Wow. Calm down. Shut the fuck up. Thank you. What a lovely welcome. I’m gonna try my hardest tonigh...</td>\n",
              "    </tr>\n",
              "  </tbody>\n",
              "</table>\n",
              "</div>\n",
              "      <button class=\"colab-df-convert\" onclick=\"convertToInteractive('df-acbe47d0-62a6-4e18-b73f-d8608ddf48d9')\"\n",
              "              title=\"Convert this dataframe to an interactive table.\"\n",
              "              style=\"display:none;\">\n",
              "        \n",
              "  <svg xmlns=\"http://www.w3.org/2000/svg\" height=\"24px\"viewBox=\"0 0 24 24\"\n",
              "       width=\"24px\">\n",
              "    <path d=\"M0 0h24v24H0V0z\" fill=\"none\"/>\n",
              "    <path d=\"M18.56 5.44l.94 2.06.94-2.06 2.06-.94-2.06-.94-.94-2.06-.94 2.06-2.06.94zm-11 1L8.5 8.5l.94-2.06 2.06-.94-2.06-.94L8.5 2.5l-.94 2.06-2.06.94zm10 10l.94 2.06.94-2.06 2.06-.94-2.06-.94-.94-2.06-.94 2.06-2.06.94z\"/><path d=\"M17.41 7.96l-1.37-1.37c-.4-.4-.92-.59-1.43-.59-.52 0-1.04.2-1.43.59L10.3 9.45l-7.72 7.72c-.78.78-.78 2.05 0 2.83L4 21.41c.39.39.9.59 1.41.59.51 0 1.02-.2 1.41-.59l7.78-7.78 2.81-2.81c.8-.78.8-2.07 0-2.86zM5.41 20L4 18.59l7.72-7.72 1.47 1.35L5.41 20z\"/>\n",
              "  </svg>\n",
              "      </button>\n",
              "      \n",
              "  <style>\n",
              "    .colab-df-container {\n",
              "      display:flex;\n",
              "      flex-wrap:wrap;\n",
              "      gap: 12px;\n",
              "    }\n",
              "\n",
              "    .colab-df-convert {\n",
              "      background-color: #E8F0FE;\n",
              "      border: none;\n",
              "      border-radius: 50%;\n",
              "      cursor: pointer;\n",
              "      display: none;\n",
              "      fill: #1967D2;\n",
              "      height: 32px;\n",
              "      padding: 0 0 0 0;\n",
              "      width: 32px;\n",
              "    }\n",
              "\n",
              "    .colab-df-convert:hover {\n",
              "      background-color: #E2EBFA;\n",
              "      box-shadow: 0px 1px 2px rgba(60, 64, 67, 0.3), 0px 1px 3px 1px rgba(60, 64, 67, 0.15);\n",
              "      fill: #174EA6;\n",
              "    }\n",
              "\n",
              "    [theme=dark] .colab-df-convert {\n",
              "      background-color: #3B4455;\n",
              "      fill: #D2E3FC;\n",
              "    }\n",
              "\n",
              "    [theme=dark] .colab-df-convert:hover {\n",
              "      background-color: #434B5C;\n",
              "      box-shadow: 0px 1px 3px 1px rgba(0, 0, 0, 0.15);\n",
              "      filter: drop-shadow(0px 1px 2px rgba(0, 0, 0, 0.3));\n",
              "      fill: #FFFFFF;\n",
              "    }\n",
              "  </style>\n",
              "\n",
              "      <script>\n",
              "        const buttonEl =\n",
              "          document.querySelector('#df-acbe47d0-62a6-4e18-b73f-d8608ddf48d9 button.colab-df-convert');\n",
              "        buttonEl.style.display =\n",
              "          google.colab.kernel.accessAllowed ? 'block' : 'none';\n",
              "\n",
              "        async function convertToInteractive(key) {\n",
              "          const element = document.querySelector('#df-acbe47d0-62a6-4e18-b73f-d8608ddf48d9');\n",
              "          const dataTable =\n",
              "            await google.colab.kernel.invokeFunction('convertToInteractive',\n",
              "                                                     [key], {});\n",
              "          if (!dataTable) return;\n",
              "\n",
              "          const docLinkHtml = 'Like what you see? Visit the ' +\n",
              "            '<a target=\"_blank\" href=https://colab.research.google.com/notebooks/data_table.ipynb>data table notebook</a>'\n",
              "            + ' to learn more about interactive tables.';\n",
              "          element.innerHTML = '';\n",
              "          dataTable['output_type'] = 'display_data';\n",
              "          await google.colab.output.renderOutput(dataTable, element);\n",
              "          const docLink = document.createElement('div');\n",
              "          docLink.innerHTML = docLinkHtml;\n",
              "          element.appendChild(docLink);\n",
              "        }\n",
              "      </script>\n",
              "    </div>\n",
              "  </div>\n",
              "  "
            ]
          },
          "metadata": {},
          "execution_count": 26
        }
      ],
      "source": [
        "# We can either keep it in dictionary format or put it into a pandas dataframe\n",
        "import pandas as pd\n",
        "pd.set_option('max_colwidth',150)\n",
        "\n",
        "data_df = pd.DataFrame.from_dict(data_combined).transpose()\n",
        "data_df.columns = ['transcript']\n",
        "data_df = data_df.sort_index()\n",
        "data_df"
      ]
    },
    {
      "cell_type": "code",
      "execution_count": null,
      "metadata": {
        "id": "h6ZMLlSQbI_T",
        "colab": {
          "base_uri": "https://localhost:8080/"
        },
        "outputId": "c85ae66f-990b-4303-e03d-93e64cedc19e"
      },
      "outputs": [
        {
          "output_type": "execute_result",
          "data": {
            "text/plain": [
              "\"Ladies and gentlemen, please welcome to the stage: Ali Wong! Hi. Hello! Welcome! Thank you! Thank you for coming. Hello! Hello. We are gonna have to get this shit over with, ’cause I have to pee in, like, ten minutes. But thank you, everybody, so much for coming. Um… It’s a very exciting day for me. It’s been a very exciting year for me. I turned 33 this year. Yes! Thank you, five people. I appreciate that. Uh, I can tell that I’m getting older, because, now, when I see an 18-year-old girl, my automatic thought… is “Fuck you.” “Fuck you. I don’t even know you, but fuck you!” ‘Cause I’m straight up jealous. I’m jealous, first and foremost, of their metabolism. Because 18-year-old girls, they could just eat like shit, and then they take a shit and have a six-pack, right? They got that-that beautiful inner thigh clearance where they put their feet together and there’s that huge gap here with the light of potential just radiating through.\\nAnd then, when they go to sleep, they just go to sleep. Right? They don’t have insomnia yet. They don’t know what it’s like to have to take a Ambien or download a Meditation Oasis podcast to calm the chatter of regret and resentment towards your family just cluttering your mind. They have their whole lives ahead of them. They don’t have HPV yet. They just go to sleep in peace at night. Everybody has HPV, OK? Everybody has it. It’s OK. Come out already. Everybody has it. If you don’t have it yet, you go and get it. You go and get it. It’s coming. You don’t have HPV yet, you’re a fucking loser, all right? That’s what that says about you. A lot of men don’t know that they have HPV, because it’s undetectable in men. It’s really fucked up. HPV is a ghost that lives inside men’s bodies and says, “Boo!” in women’s bodies. My doctor told me that I have one of two strains of HPV. Either I have the kind that’s gonna turn into cervical cancer… …or I have the kind where my body will heal itself. Very helpful, this doctor, right? So, basically, either I’m gonna die… or you’re in the presence of Wolverine, bitches. We’ll find out. Um, I can also tell that I’m getting older, because my Kindle is turning into a self-help library. I’m not interested in books like Fifty Shades of Grey, OK? I’m interested in The Life-Changing Magic of Tidying Up. Yes. Yes, that’s right, how to declutter my home to achieve inner peace and my optimum level of success. That’s what your 30s is all about. How can I turn this shit around? I’m a horrible person, I’m not happy with where I am, how can I turn this shit around? Help me, Tony Robbins, help me!\\nI have a hoarding problem, which I’m hoping is the center of all of my other problems. I’m hoping that if the hoarding goes away, the HPV will also disappear. I have a hoarding problem because my mom is from a third world country and she taught me that you can never throw away anything, because you never know when a dictator’s gonna overtake the country and snatch all your wealth. So, you better hold onto that retainer from the third grade, ’cause it might come in handy as a shovel when you’re busy stuffing gold up your butt and running away from the Communists.\\nThe last time I was at home in San Francisco, I was trying to help her get rid of shit. Don’t ever do that with your mom. It was like the worst experience of my life. It was so emotional. We were screaming and fighting and yelling and it all came to a climax when she refused to let go of a Texas Instruments TI-82… manual. The manual. She don’t even know… where the calculator is. Those of you under 25 probably don’t know what that calculator is. It was this calculator that bamboozled my generation. We were all required to buy it when we were in eight grade. It cost like $200. And everybody thought it was like this Judy Jetson’s laptop from the future. All because what? It could graph. It was like the Tesla of my time. And my mom got so emotional about the manual and she was like, “You never know when you might need this.” And I was like, “But… I do know… that I’m gonna have to clean all this shit up when you die.” “And I’m not trying to be a procrastinator anymore. Because according to Deepak-Oprah, that’s not the way for me to achieve my optimum level of success.” I grew up a lot this past year. Uh, this past year I also got married. Yeah. To a man who now has HPV. Very lucky guy. He gave me something. I gave him something. That will also last forever. No, really. I’m the lucky girl, because before him, I dated a lot of losers. Lots of losers. A lot of skaters. You wanna be a grown-ass woman, stop dating skaters. Stop dating skaters unless you wanna wake up on a mattress in a kitchen. They’re sexy on the outside, malt liquor on the inside. Horrible. But my husband, I first met him at this wedding and, uh, he’s– he’s much better looking than me, he’s way out of my league, and I saw him and I was like, “Oh, my God, who is that?” And the first thing I learned about him was that, at the time, he was attending Harvard Business School. And I was like, “Oh, my God, I’m gonna trap his ass.” “Going to trap his ass!” And I trapped his ass initially by not kissing him until the fifth date, which is a very unusual move on my part. But I did it on purpose, because I knew that he was a catch. So I was like, “All right, Ali, you gotta make this dude believe that your body is a secret garden.” When, really, it’s a public park… …that has hosted many reggae fests… …and has even accidentally let… two homeless people inside. I thought they were hipsters, OK? That store Urban Outfitters has made things very confusing… for my generation. You homeless or you a hipster? Is that beard for fashion or for warmth? It happened to… It happened in San Francisco, when I was living there, and I saw this guy in broad daylight and we had, like, we had… We had so much chemistry. He was like, “Hey, wassup?” I was like, “Wassup?” And we– The next thing I knew, we were getting busy in the back of my Volvo. And then after we were done, he was like, “Hey, can you drop me off?” I was like, “Where?” He was like, “At the park.” And I dropped him off at Golden Gate Park and watched him run into the middle with all his other homeless friends, and I was like, “Oh, no!” “I just fucked a homeless dude! Again!” My husband is Asian. Which a lot of people are shocked by, because, usually, Asian-American women who, like, you know, wear these kinda glasses and have a lot of opinions, they like to date white dudes. You go to any hipster neighborhood in a major city in America and that shit is turning into a Yoko Ono factory. It’s… too much. I don’t know what’s wrong with these bitches. I get it, you know, because being with a white dude you feel very… You feel very picturesque when you’re with a white dude, you know. You feel like you’re in a Wes Anderson movie or something. And you know, white dudes, they teach you about a lot of cool stuff like voting and recycling, and disturbing documentaries. They introduce you to cool stuff like that and it’s very, you know, it’s hot hookin’ up with a white dude. I mean, nothing makes me feel more powerful than when a white dude eats my pussy. Oh, my God. I just feel like I’m absorbing all of that privilege and all of that entitlement… …you know, just right there, through the money hole and just… And then also, he’s so vulnerable down there. I’m, like, “I could just crush your head at any moment, white man! I could just kill you right now! Crush those brains! Colonize the colonizer!” You know?\\nBut I think that for marriage, it can be nice to be with somebody of your own race. The advantage is that you get to go home… and be racist together. You get to say whatever you like! You don’t gotta explain shit. My husband, half-Filipino, half-Japanese. I’m half-Chinese and half-Vietnamese. And we spend 100 percent of our time shitting on Korean people. It’s… amazing. It’s what love is built on, you know?\\nMy last boyfriend was Cuban and his family would shit on Mexican people all the time. And I was like, “Hold it. You guys aren’t Mexican?” Asian-American men are very underrated. I don’t know why people don’t go for them. They’re the sexiest. Asian men are the sexiest. They got no body hair from the neck down. It’s like making love to a dolphin. Oh, my God. It’s so smooth, just like a slip and slide. Just black fish, Tilikum, all up in my bed every night, you know? Ooh-wee. You mess with a Jewish dude and your body is all fucked up afterwards. It’s all red and inflamed and you’re like, “I did not ask to be exfoliated today.” “This is the last time I go on J-date, more like loofah date. Thanks for the rug burn, Avi.” And then Asian men, no body odor. None. They just smell like responsibility. That’s where the umami flavor comes from.\\nI think my husband and I have a huge unspoken understanding, uh, between each other, because he’s half-Filipino and half-Japanese and I’m half-Chinese and half-Vietnamese. So, we’re both half-fancy Asian… …and half-jungle Asian. Yeah! You guys know the difference. The fancy Asians are the Chinese, the Japanese. They get to do fancy things like host Olympics. Jungle Asians host diseases. It’s… It’s different. But he grew up on the East Coast, going to private school, playing lacrosse, uh, you know, learning Latin and playing chess and rugby. He grew up like Filipino Carlton, OK? So, he didn’t know anything about Vietnamese people until he met me. And on one of our first dates, he took me to this restaurant on the west side of Los Angeles called Pho Show. He was like, “It’s authentic Vietnamese. I read about it on Yelp!” I was like, “It’s not authentic, OK?” You can tell, first and foremost, by the name, ’cause it don’t got a number in it. Second of all, you can tell by the bathroom. If it was legit, the bathroom would double as a supply closet. When I pee, I need to see ten gallons of bleach, an ATM machine and a grandma with glaucoma napping in the corner. And the wait staff here is too nice. We need to leave this restaurant deaf and emotionally abused. I grew up going to private school, too. Him and I are both total, like, private school Asians. We both are big hippies, too. We like to backpack through Southeast Asia. We like to do yoga. We do ayahuasca ceremonies. We do silent meditation retreats. That’s right, we pay $800 to shut up for a weekend. We do shit like that. Uh, we eat gluten-free, which means we eat all that bread that tastes like free-range Chewbacca. We eat that lesbian bread that’s like… …a thousand percent of your daily fiber… and 20 percent spoken word poetry. When you eat it, you queef a shitty poem about… …supporting Caitlyn Jenner or whatever. And so, it’s funny, right, because he’s Asian, too. But sometimes, all of this hippy-dippy shit we do… makes me feel like we are white people doing an impression of Asian people. Like, we have these Chinese scrolls up on the wall… and neither of us know what the fuck they mean. We’re like, “Oh, that seems to go very well with our Buddha piggy bank from Pier 1 Imports. That seems to be providing some good feng shui for the house. Him and I had been dating for four years and I– I just had this sneaking suspicion that he was gonna propose… because… I had been pressuring him to do it. So, you know, I just had this wacky women’s intuition. That’s how proposals really work, OK? A woman has to incept the idea into the man’s head. First passively and then if he doesn’t get the message, extremely aggressively. You gotta threaten to leave without ever actually leaving, because you know that you’re too old and it’s too late to go back out there and find a new man and start the whole manipulation cycle all over again. So, you’re like, “I’m just gonna stick with this dude, focus on trapping this dude, and just nag the shit outta him until he becomes weak and caves in and gets fed up and is like, “Shut the fuck up! Fine, will you marry me?” And then afterwards, the woman is always, like, “Oh, my God! He proposed!” “It came outta nowhere. And look, he got me the exact ring I wanted. How did he know? Maybe he saw it on my Pinterest page or something… that I sent to my best friend, that I told her to send to him every day.” Let me tell you something. If a man has a Pinterest page… he’s probably Pinterested in men. We got engaged on a Saturday. I bought my wedding dress the following Tuesday… because I had tried it on in 2012. I was ready. I was ripe. I was rotten. I need to be made into banana bread. That’s how rotten I was. People are always very surprised at how, off-stage, with my husband, I’m a completely different person. You– Like, you would not recognize my personality at all with him. With him, I’m very soft, and, like, very nurturing and very domestic. We’ve been together now for five years, and for five years, I’ve packed his lunch every single day. Yeah. Yes. Yes. Yes. I did that so that he’d become dependent on me. ‘Cause he graduated from Harvard Business School, and I don’t wanna work anymore. I don’t. I straight up don’t wanna work anymore. I don’t feed him out of the goodness of my heart. I do it as an investment in my financial future. ‘Cause I don’t wanna work anymore. I’ve been reading that book by Sheryl Sandberg, she’s the C.O.O. of Facebook, and she wrote that book that got women all riled up about our careers. Talking about how we as women should challenge ourselves to sit at the table and rise to the top. And her book is called Lean In. Well, I don’t wanna lean in, OK? I wanna lie down. I want to lie the fuck down. I think feminism is the worst thing that ever happened to women. Our job used to be no job. We had it so good. We could have done the smart thing, which would have been to continue playing dumb for the next century and be like, “We’re dumb women. We don’t know how to do anything. So, I guess we better just stay at home all day and eat snacks and watch Ellen.” “‘Cause we’re too stupid to have any real responsibility.” And then, all these women had to show off and be like, “We could do it! We could do anything.” “Bitch, shut up!” “Don’t tell them the secret.” They ruined it for us, and now we’re expected to work. When I hear the phrase, “Double-income household,” I wanna throw up. A lot of women get very upset with me about those comments. And they’re like, “But, Ali, we have so many more options now.” Oh, you don’t think we had a lot of options when our day was free? Unscheduled, unsupervised, and most importantly, sponsored? Do you know how much shittier food tastes when you know you have to earn it?\\nA lot of my friends, when we walk around together, they’ll get very judgmental about housewives that we’ll see on the street. And they’ll be like, “Look at that fucking housewife. Not doing anything. Look at that housewife, just walking around all day, getting massages in her Lululemon pants.” I’m like, “That bitch is a genius.” “She’s not a housewife, she’s retired.”\\nI do write for Fresh Off the Boat on ABC. Yeah. Which is… It’s a great show. I love it a lot. I love my co-workers. It’s a great writing staff and in terms of day jobs, it’s probably one of the best you could ask for, but I still gotta work at a office every day. Which means I gotta shit in a office every day. Housewives, they don’t gotta shit in a office. Housewives get to shit in their house. Skin to seat. They don’t gotta use that horrible toilet paper cover. They don’t gotta… …ten times a day, every day… like you’re about to eat a sad-ass meal. They don’t gotta do that. They don’t gotta use that one-ply toilet paper, that office toilet paper, that they purposely make difficult to pull out. They try to ration me with their communist toilet paper that’s not even effective. It basically just dehydrates your butt hole. It’s basically like wiping your butt with the desert. I literally spat on my toilet paper two days ago, to try to make a MacGyver baby wipe, to moisten it, and then it backfired ’cause my fingers broke through and digitally stimulated more doo doo to come out, and then I had to start all over again. And you can never finish wiping at work because you always feel rushed ’cause you’re paranoid that your co-worker’s gonna recognize your shoes underneath the stall. And you’re like, “Oh, no! Courtney’s listening. She’s waiting. She’s timing me.” And then you hurry, hurry, hurry, and then you never finish wiping and then your butt hole feels caked in doo doo all day long. And then if you dare scratch yourself, your underwear at the end of the day looks like it’s been run over by the Goonies. Housewives, they don’t gotta muffle their shit, too. They don’t gotta worry about the velocity with which their doo doo comes out. They don’t gotta try to, you know, squeeze the butt cheeks together to make sure that the doo doo comes out at a slow and steady pace, so that no unpredictable noise suddenly escapes and brings you deep, deep shame. Housewives are free to just blow ass into the toilet and let it echo and reverberate to the ends of their hallways while watching as much Netflix on their iPad as they want. They don’t gotta take these boring, repressed shits. They can listen to podcasts. Planet Money. They can do whatever they want.\\nYou know, it’s– it’s very distracting for me when I hear my co-workers blow ass into the toilet. I lose respect for them. Nothing they say to me anymore holds any sort of credence. I heard one of my co-workers blow ass into the toilet the other day. This bitch had the nerve to come up to me and say, “You need to get to work on time.” I was like, “You need to eat bananas.” “I saw those green ballet flats. I know that shit was you. Don’t try to tell me to get my shit together when I heard you not have your shit together.” My father-in-law had this huge sit-down with me and my husband recently. Um, and he was like, “Hey, I wanna talk to you guys about money. You guys need to make a lot more money if you wanna provide your children with the same kind of privileged childhood that you guys had.” I was like, “Why you telling me this shit? I should not be a part of this conversation. You tell you son that. Don’t your understand that I trapped your son for his earning potential? Why else would I choose to fuck one person for the rest of my life? I chose to marry him on the promise of early retirement, and when I said, ‘I do,’ what I really meant was, ‘Oh, I’m done.'” I’m done. I don’t wanna work anymore and I’m not dieting anymore. Since I got married last year, I’ve been eating fried chicken skin every day since. That’s right. And just fulfilling my destiny. Which is to turn into a circle with eyelashes. Like Mrs. Pacman, just… Let’s redecorate.\\nI gave up a lot of myself when I got married. I’m a– I’m a disgusting pervert. I’m a pervert. I’m a gross filthy animal. And I think it’s because I started watching porn at a very young age. And what happens when you start watching porn at a young age is that… y-you get sicker, and sicker, and sicker. The images you crave get sicker, and sicker, and sicker, but it’s OK, because the Internet will always catch up to you.\\nI broke up with my last boyfriend because he refused to put it in the back. I was like, “Uh, you’re a idiot, dude. Do you realize that if I went on Craigslist… and posted ‘Tiny Asian female seeking anal…’ the Internet would crash.” “And all the Jewish male heads in the universe would simultaneously explode.” They would explode. A lot of women get really, you know… freaked out about anal. And they’re like, “Oh, I don’t wanna do that. I’m scared of– of the pain.” You ain’t scared of the pain. Women, they wax their eyebrows, they do all sorts of crazy shit. You’re not scared of the pain. What you’re really scared of is doo doo on the dick. You’re scared that he’s gonna see that and that’s gonna be all of your shame, your inner evil, all your secrets and lies. Sephora can’t help you now. But don’t worry, ’cause when he puts it in the butt, all he’s thinking about is, “I just put it in her butt.” “I gotta go call my mom, my dad, Dave, my grandma.” You’re– If you’re married, you’re gonna have to do anal eventually, OK? You have to, because you gotta change it up. You gotta change it up, so that you don’t cheat on each other. You gotta keep it interesting. If you put it in different holes, maybe you’ll feel like you’re fucking different people. I was very sexually active in my 20s, and as a result, I’m a little bit… …stretched out down there, OK? So, when I finally did anal, I just felt like I got a second chance at life, you know? I was, like, “Oh, my God! It’s like I’m going back in time!” ♪ A whole new world ♪ It was magical. A big fantasy of mine before I got married was to help as many men as possible discover their prostate. Yeah, like a conqueror. I just wanted to… Now, if you haven’t done it before, ladies, go home and treat yourself. Do it tonight. You only live once. YOLO. Just sneak your– Just give your man a little– a little push-push in the tush-tush. Just give him a little Atari, you know, and you’ll get a lot of resistance from the man at first. You’ll get a lot of “No! No! No! No, please! No, really, I don’t– No! I don’t! I don’t! No!” They get all squirmy wormy because… they’re scared. They’re scared that if you stick your thumb up there and succeed, and they like it, that then, it might mean that they’re gay. And I like that fear. That shit turns me on, you know? Especially when that fear metamorphosizes into pleasure. Oh, my God! And you just see the look in the man’s eye like he’s discovered nirvana. And it’s like you’re the first lady to show him that he had a magical clit in his butt hole. And then, you as the woman, in his eyes, just become the Lord of the Rim, you know? My husband is unfortunately just not as freaky as me. When– When I’ve asked him to spank me, this is what he does. “Hey. Hey, are you OK? Are you all right? You know I respect you, right?” I’m, like, “Yes, I know you respect me and that’s why you need to abuse me. OK?” ‘Cause it’s the most strong-headed, loud-mouthed women who like to be abused the most in bed. Women who are C.E.O.s, they just wanna be roughed around. They just want their– Glasses always means the woman wants some– It’s because we’re so in control all the time, that we just wanna experience some risk and be out of control, you know? Like, “I don’t wanna die! Don’t kill me! I don’t wanna die!” But I also don’t want to be sure that I’m gonna live. You know? I just wanna be out of control for once. Just– Just choke me enough so that I can’t talk. ‘Cause if I can talk, I’m gonna tell you what to do. And I’m tired of being the boss. I’m the boss all the time, so, in the bedroom, you be the boss. Yes. Because I’m the real boss. And I told you so, motherfucker, so do it. Sheryl Sandberg, that woman who wrote Lean In, has had such a big impact that now, because of her, there is a ban on the word “bossy” in elementary schools, because according to her, it’s sexist to use the word “bossy,” because boys are never called bossy. So, now, instead of saying, “You’re bossy,” you’re supposed to say, “You have executive leadership skills.” Which is a very roundabout way of saying: “You’re a little cunt.” I’m just waiting for the right moment to, like, become a housewife, financially, you know? I want my husband to get us to, like, a certain point financially. I wanna get to the point as a couple where I can comfortably afford sliced mango. Know what I’m talking about? I’m talking about that Whole Foods mango. That $10-a-box Whole Foods mango that was sliced by white people. That’s the kind of income bracket I’m striving for. That’s when you know you’ve made it, when you’re eating mango that was sliced by a dude named Noah. I want Noah mango… …Rebecca kiwi, Danielle pineapple. You know what else I want? I wanna be able to take a stroll on a sidewalk, see a quarter, and just keep on walking. Like a princess. I have some useful advice for all my Asian-American brothers and sisters. Yeah! Never go paintballing with a Vietnam veteran. So, I don’t know if you guys can tell, but I am seven and a half months pregnant. Yeah. It’s very rare and unusual to see a female comic perform pregnant, because female comics… don’t get pregnant. Just try to think of one. I dare you. There’s– None of them. Once they do get pregnant, they generally disappear. That’s not the case with male comics. Once they have a baby, they’ll get up on stage a week afterwards and they’ll be like, “Guys, I just had this fucking baby. That baby’s a little piece of shit. It’s so annoying and boring.” And all these other shitty dads in the audience are, like, “That’s hilarious. I identify.” And their fame just swells because they become this relatable family funny man all of a sudden. Meanwhile, the mom is at home, chapping her nipples, feeding the fucking baby, and wearing a frozen diaper ’cause her pussy needs to heal from the baby’s head shredding it up. She’s busy. So, I don’t know what’s gonna happen to me. You know, a lot of my female stand-up comic friends who are a lot more successful and famous than me discouraged me from having a kid. And they were like, “Ali, why are you gonna have a kid? You just gonna become– You’re gonna disappear, and you’re gonna become some lame stay-at-home mom.” I was like, “Yeah, that’s the dream.” That’s the point. This is the ultimate trap. I won, you know?\\nAnother thing a lot of my friends said to me when they were discouraging me from having a kid, they were like, “Why are you gonna have a kid? Why don’t you just travel the world with your husband and just do whatever you want for the rest of your lives with no kid attached.” I was like, “Yeah, that’s cool… until my husband dies.” Which he’s definitely gonna before me. Because I’m a Asian woman, and therefore, guaranteed to live until I’m a billion. I’m guaranteed, like a turtle from the Galapagos, OK? We all know the phrase “black don’t crack.” Well, Asian don’t die. We don’t die. Especially the women, we live forever. And you know why we’re such bad drivers? Because we’re trying to die. We’re like, “Yeah! Let me see how invincible I really am!” “Imma make this left hand turn signal and ignore this red light completely.” “I’m gonna make a right turn– I changed my mind, it’s a U-turn!” “I changed my mind again. It’s a O-turn!” Every time I get into a car accident… …I’m like, “Oh, my God, not again!” I need to hide my face so that everybody doesn’t see that it’s what everybody thought it was gonna be. So embarrassing. My Toyota Corolla is a mess. There’s this huge bear claw scratch on the side from this aggressive brick wall that came out of nowhere. And then, on the hood, there’s multiple hand prints from pedestrians who have had to alert me of their existence. I don’t know what’s wrong with me, but I’m still here, you know? I need to have children to keep me company when I get older. It’s lonely. My mom is 80, going through a full blown mid-life crisis. ‘Cause she knows that she’s got a century more to go. And she is so lonely. All of her white friends, dead. Her Mexican friends, dead. Black friends, dead. I’m just kidding. She doesn’t have any black friends. Life is not Rush Hour, the movie, OK? I need children to be there for me when I’m older, when I get as old as her. And when I say be there for me, I mean pay for me when my husband isn’t around to support me anymore. I’m not trying to be one of those old Chinese ladies who recycles for a living. That’s not my destiny, OK? Old Chinese ladies, they don’t give a fuck. They got no shame. They’re like, “I’m just gonna recycle… go bald… go to the park, do this shit.” They do that ’cause it’s a free activity. For them. They do it in their– their big-ass V. Stiviano visor, their Darth Vader-Tomb Raider- Boba Fett helmet. They wear that to protect themselves from their arch-nemesis, the sun. Their in a contest to see who’s gonna burn out first. Old Asian ladies and the sun are like the Tupac and Biggie of longevity. I also decided to have a kid because uh, I’m only 33, which, I know, is not technically high-risk, but my body was starting to show signs of change. And it– And it scared me. Like, I’m only 33 and… …my pussy is not as wet as it used to be. It’s very demoralizing, OK? Do you remember when you were 18 years old, and your pussy was just sopping wet all the time? All the time, you just took it for granted that you could just reach your hand down your pants at any given moment, you throw up the peace sign afterwards, and there would be that snail-trail in between your fingers. Oh, my God, it was so juicy. You could just blow a bubble wand with it, just… “I slime you, I slime you. Ghostbusters!” I don’t know what kind of mother I’m gonna be. I’m– I’m 33, and I did have to get a little bit of science involved when trying to get pregnant. And a lot of that… is most likely my fault. Because, when I was in my 20s, I ate Plan B like skittles. So, my uterus probably looked like a smoker’s lung. And I found out that my progesterone levels were alarmingly low. So, then I had to take these hormone pills that were suppositories, and Push Pop them up myself every single night. And then, at my writing job, at Fresh Off The Boat, I would be storyboarding in front of my co-workers, and then, at some point, the pill would inevitably dissolve and melt into my underwear, and I had to act like everything was OK, when everything was clearly not OK. And then, a side effect of the progesterone was that it made me extremely itchy. So, then I had to find ways to discretely scratch myself underneath the conference table, and then resist the urge to immediately smell my fingers afterwards. I want to be able to smell my fingers when I wanna smell my own goddamn fingers. Housewives, they can just scratch and sniff all day long. They just vacuum, scratch, sniff. They make a sandwich. “Uh, mmm.” They watch Property Brothers, scratch, “What’s crackin’? Mmm.” Every time you scratch yourself, all you can think about is, “When can I smell my fingers? When can I smell my fingers? When can I discretely find a way to…” “…smell my fingers?” Nature made you urgently curious to protect you, ’cause you gotta check that it’s all good in the hood. If it’s too funky, you need to see a doctor. Your fingers are your first WebMD. When my husband and I were trying to have a kid, a lot of people were like, “Oh, my God, that’s so hot. You guys doin’ a lot of fuckin’?” No, dude. That’s– That’s shit you do in your 20s, OK? When in– When you’re in your 30s, and you’ve been trying to get pregnant for a while, it gets very clinical. You pee on these ovulation strips that tell you when the eggs are droppin’. It tells you when it’s Easter time. And I would only fuck him when it was Easter time. It was, like, only four days out of the month, and outside of that, I would be like, “We’re not fuckin’. I need you to save it. I want your sperm to be as pent-up, and as angry and rapey as possible. So that, when they come out, it’s like, ‘Release the Kraken!'” And they just come out like a bunch of angry refugees escaping a dictatorship, you know? And, um… yeah, and most of the time, like, we wouldn’t even have sex, ’cause I was so tired when I would come home, and see the smiley face on the ovulation strip, and I’d be like, “OK, it’s go time,” and I would just give my husband a hand job most of the time, and he would close his eyes immediately. I know what that means, OK? When somebody closes their eyes during sex, it’s not because they’re in such ecstasy with you that– that they need to close their eyes. When somebody closes their eyes during sex, it’s because they’re literally trying to shut the image of your face out of their head and instead project two Latina lesbians that they saw earlier that day on RedTube onto the back of their eyelids. Which is fine by me, because then he doesn’t have to see the expression on my face that says, “Please, hurry the fuck up.” And then, when he was about to finish, I could always tell because the indication is very universal when a man is about to finish. It’s when they get that… that stupid-ass look on their face… …where they look like they just got bit by a zombie, just… And then, because we’re hippies, I’d be like, “Hey, hey! Please look me in the eye and remember to come with intention, OK?” And then, I would jump on him, and hold onto his neck, and I would just twerk, twerk, twerk the shit out of him… and do some of this shit that I learned in Atlanta. And then I would turn upside down immediately afterwards… to make sure all of that Harvard nectar would just drain inside of me. That’s right. ‘Cause I don’t wanna work anymore. I’m very grateful to be pregnant and to be… this far along, to be seven and a half months pregnant, because, last year, I had a miscarriage, which is very common. And a lot of women who are in their 20s flip out when they hear that. They’re like, “Oh, my God. That’s so dark and terrible. I can’t believe that.” I’m 33. Girl, when you’re 33, you’ll know plenty of women who have had a miscarriage. It’s super common, and I wish more women would talk about it so they wouldn’t feel so bad when they go through it. When I told my mom– She’s from a third world country, and when I told her I had one, she was like, “Uh, yeah. Where I’m from, that’s like losing a pair of shoes. It’s whatevs, OK?” And everything happens for a reason. I found out at my six-week sonogram, which is very early. And the doctor says to me, “Oh, my God, I see two sacks, which means you’re having twins.” And I was like, “No!” And then she said, “But what I don’t see is a heartbeat.” And I was like, “Yes!” “The Lord is mysterious!” Don’t feel bad, OK? They were the size of poppy seeds. I’ve picked boogers larger than the twins that I lost. And most women won’t let their husbands watch when they’re going through a miscarriage. I sat my husband down in front of me while I sat on the toilet, and I was like, “You look.” “You watch the whole thing.” And he felt so bad for me. And I used it as leverage and held that shit over his head for a month and got him to do whatever the fuck I wanted him to do for 30 days. He took me to see Beyoncé. He bought me a bike off of Craigslist. That’s my miscarriage bike, and I love it very much. For 30 days, I finally had the marriage I always wanted. I’m scared about giving childbirth, though. I’m– I’m very, very scared of childbirth. That’s why I’m going to hire a doula. You know what that is? You know what a doula is? That’s a white hippie witch… …that blows quinoa into your pussy to Keyser Söze all the pain away. A lot of women tried to freak me out. They tried to freak me out about childbirth by saying, “Ali, did you know that you’re gonna poop on the table?” I was like, “Yeah, I look forward to it.” I’m all backed up from holding in my shit at work. I can’t wait to cleanse. It makes sense, like, that you– that that happens because when you’re in labor, you push, you push, you push, and your husband will be asked to assist in the labor by lifting up your leg, which subsequently turns into a soft serve lever. You just shit on the floor in front of the love of your life. And just when you think that’s enough to make him finally leave you, boom, a baby comes out, and he gotta stay. That’s the real miracle of life, right there. I can already see how a child can really take its toll on a marriage, because the baby hasn’t even come out yet and I am already so resentful towards my husband. So much resentment, especially when he asks me to do shit around the house. “Hey, can you wash the dishes?” “No!” “Can you water the plants?” “I am not doing jack shit anymore. I’m busy makin’ a eyeball, OK? Are you makin’ a foot? I didn’t think so. You change the channel.” I can already see how there’s, like, this crazy double standard in our society of how it takes so little to be considered a great dad. And it also takes so little to be considered a shitty mom. People praise my husband for coming to all of my doctor’s appointments with me. “Oh, my God. I can’t believe he comes to all your doctor’s appointments. He is so supportive.” Guess who else has to go to those doctor appointments. Me! I’m the star of the show. There’s nothing for the camera to see if I’m not there. But he’s the hero for playing Candy Crush while I get my blood drawn. Meanwhile, if I do mushrooms seven months pregnant, I’m a bad mommy. You know, I– I– I, like, I berate my husband on, like, a daily basis. Partially because I really am mad at him. But mostly out of survival, because if he leaves me, I’m fucked. So, I have to chip away at his self-esteem on a daily basis… to keep him down so that he doesn’t believe that he’s worthy of another woman’s affection and leaves me. I gotta keep him around by keeping him down. People don’t tell you about all this shit that goes down with your body when you get pregnant, you know? Your nipples get huge and dark. I didn’t know that. I didn’t know that they get dark so that the baby can see, like, a bullseye. So that the baby can find it easier. And then, you know, they get big– they get big, like fingers. Like, “You, you. You owe me money, you.” My nipples look like Whoppers now, and naked, I look like a Minion. But I’m not gonna be one of those crazy pregnant ladies who tries to get all back in shape right after they get pregnant. No. Hopefully, if you see me in a year, I will have the kind of body where, if I do a nude scene on television, people will commend me for being courageous. For doing it. Now that I’m seven and a half months pregnant, my pussy’s all wet again. But it’s different. It’s not like when I was 18 years old, when it was like, really hot, you know? And I was like, “Why is it different?” And I looked it up, and my pussy’s all wet again because my– my body’s secreting mucus to protect the baby from bacteria attacking it. That’s not the same. When it’s straight up soldier glue, when it’s Neosporin. So, you know, I– I, in– previously, before I met my husband, I had dated a bunch of losers. And then, I meet this dream guy, who’s, like, way more handsome than me, out of my league, graduated from Harvard Business School. Worked hard to trap his ass. Got him to propose to me. Oh, my God, then we got married, all my dreams coming true, and then we got pregnant, and recently we bought our first home together. And, uh, two weeks into the escrow process, I discovered that my beautiful, Harvard-educated husband was $70,000 in debt. And me, with my hard-earned TV money, paid it all off. So, as it turns out, he’s the one who trapped me. How did he do it? How did he bamboozle me? Oh! Maybe because he went to Harvard Business School, the epicenter of white-collar crime. He Enron’d my ass. And now, if I don’t work, we die. Why else do you think I’m performing seven and a half months pregnant? All right, I’ve been Ali Wong. Have a good night, everybody. Thank you.\""
            ],
            "application/vnd.google.colaboratory.intrinsic+json": {
              "type": "string"
            }
          },
          "metadata": {},
          "execution_count": 27
        }
      ],
      "source": [
        "# Let's take a look at the transcript for Ali Wong\n",
        "data_df.transcript.loc['ali']"
      ]
    },
    {
      "cell_type": "code",
      "execution_count": null,
      "metadata": {
        "collapsed": true,
        "id": "IC73oGsKbI_T"
      },
      "outputs": [],
      "source": [
        "# Apply a first round of text cleaning techniques\n",
        "import re # regular expression\n",
        "import string\n",
        "\n",
        "def clean_text_round1(text):\n",
        "    '''Make text lowercase, remove text in square brackets, remove punctuation and remove words containing numbers.'''\n",
        "    text = text.lower()\n",
        "    text = re.sub('\\[.*?\\]', '' , text)\n",
        "    text = re.sub('[%s]' % re.escape(string.punctuation), '', text)\n",
        "    text = re.sub('\\w*\\d\\w*', '' , text)\n",
        "    return text\n",
        "\n",
        "round1 = lambda x: clean_text_round1(x)"
      ]
    },
    {
      "cell_type": "code",
      "execution_count": null,
      "metadata": {
        "id": "nwjtJtEvbI_T"
      },
      "outputs": [],
      "source": [
        "# Let's take a look at the updated text\n",
        "data_clean = pd.DataFrame(data_df.transcript.apply(round1))\n",
        "data_clean"
      ]
    },
    {
      "cell_type": "code",
      "execution_count": null,
      "metadata": {
        "collapsed": true,
        "id": "EBDJsk4NbI_U"
      },
      "outputs": [],
      "source": [
        "# Apply a second round of cleaning\n",
        "def clean_text_round2(text):\n",
        "    '''Get rid of some additional punctuation and non-sensical text that was missed the first time around.'''\n",
        "    text = re.sub('[‘’“”…]', '', text)\n",
        "    text = re.sub('\\n', '', text)\n",
        "    return text\n",
        "\n",
        "round2 = lambda x: clean_text_round2(x)"
      ]
    },
    {
      "cell_type": "code",
      "execution_count": null,
      "metadata": {
        "id": "CxqUpy7ObI_U"
      },
      "outputs": [],
      "source": [
        "import pandas as pd"
      ]
    },
    {
      "cell_type": "code",
      "execution_count": null,
      "metadata": {
        "id": "ekvtL475bI_U",
        "colab": {
          "base_uri": "https://localhost:8080/"
        },
        "outputId": "f4216bd4-5cd4-497d-d84e-5b6e4dcb5e35"
      },
      "outputs": [
        {
          "output_type": "execute_result",
          "data": {
            "text/plain": [
              "                                                                                                                                                    transcript\n",
              "ali      ladies and gentlemen please welcome to the stage ali wong hi hello welcome thank you thank you for coming hello hello we are gonna have to get thi...\n",
              "anthony  thank you thank you thank you san francisco thank you so much so good to be here people were surprised when i told em i was gonna tape my special ...\n",
              "bill      all right thank you thank you very much thank you thank you thank you how are you whats going on thank you its a pleasure to be here in the great...\n",
              "bo       bo what old macdonald had a farm e i e i o and on that farm he had a pig e i e i o here a snort there a old macdonald had a farm e i e i o  this i...\n",
              "dave     this is dave he tells dirty jokes for a living that stare is where most of his hard work happens it signifies a profound train of thought the alch...\n",
              "hasan      whats up davis whats up im home i had to bring it back here netflix said where do you want to do the special la chicago new york i was like nah ...\n",
              "jim         ladies and gentlemen please welcome to the stage mr jim jefferies  hello sit down sit down sit down sit down sit down  thank you boston i appre...\n",
              "joe         ladies and gentlemen welcome joe rogan  what the fuck is going on san francisco thanks for coming i appreciate it god damn put your phone down ...\n",
              "john     all right petunia wish me luck out there you will die on august   thats pretty good all right hello hello chicago nice to see you again thank you ...\n",
              "louis    introfade the music out lets roll hold there lights do the lights thank you thank you very much i appreciate that i dont necessarily agree with yo...\n",
              "mike     wow hey thank you thanks thank you guys hey seattle nice to see you look at this look at us were here this is crazy its insane so about five years...\n",
              "ricky    hello hello how you doing great thank you wow calm down shut the fuck up thank you what a lovely welcome im gonna try my hardest tonight youre thi..."
            ],
            "text/html": [
              "\n",
              "  <div id=\"df-f4db8644-b250-4558-bb06-4a7f50edcc40\">\n",
              "    <div class=\"colab-df-container\">\n",
              "      <div>\n",
              "<style scoped>\n",
              "    .dataframe tbody tr th:only-of-type {\n",
              "        vertical-align: middle;\n",
              "    }\n",
              "\n",
              "    .dataframe tbody tr th {\n",
              "        vertical-align: top;\n",
              "    }\n",
              "\n",
              "    .dataframe thead th {\n",
              "        text-align: right;\n",
              "    }\n",
              "</style>\n",
              "<table border=\"1\" class=\"dataframe\">\n",
              "  <thead>\n",
              "    <tr style=\"text-align: right;\">\n",
              "      <th></th>\n",
              "      <th>transcript</th>\n",
              "    </tr>\n",
              "  </thead>\n",
              "  <tbody>\n",
              "    <tr>\n",
              "      <th>ali</th>\n",
              "      <td>ladies and gentlemen please welcome to the stage ali wong hi hello welcome thank you thank you for coming hello hello we are gonna have to get thi...</td>\n",
              "    </tr>\n",
              "    <tr>\n",
              "      <th>anthony</th>\n",
              "      <td>thank you thank you thank you san francisco thank you so much so good to be here people were surprised when i told em i was gonna tape my special ...</td>\n",
              "    </tr>\n",
              "    <tr>\n",
              "      <th>bill</th>\n",
              "      <td>all right thank you thank you very much thank you thank you thank you how are you whats going on thank you its a pleasure to be here in the great...</td>\n",
              "    </tr>\n",
              "    <tr>\n",
              "      <th>bo</th>\n",
              "      <td>bo what old macdonald had a farm e i e i o and on that farm he had a pig e i e i o here a snort there a old macdonald had a farm e i e i o  this i...</td>\n",
              "    </tr>\n",
              "    <tr>\n",
              "      <th>dave</th>\n",
              "      <td>this is dave he tells dirty jokes for a living that stare is where most of his hard work happens it signifies a profound train of thought the alch...</td>\n",
              "    </tr>\n",
              "    <tr>\n",
              "      <th>hasan</th>\n",
              "      <td>whats up davis whats up im home i had to bring it back here netflix said where do you want to do the special la chicago new york i was like nah ...</td>\n",
              "    </tr>\n",
              "    <tr>\n",
              "      <th>jim</th>\n",
              "      <td>ladies and gentlemen please welcome to the stage mr jim jefferies  hello sit down sit down sit down sit down sit down  thank you boston i appre...</td>\n",
              "    </tr>\n",
              "    <tr>\n",
              "      <th>joe</th>\n",
              "      <td>ladies and gentlemen welcome joe rogan  what the fuck is going on san francisco thanks for coming i appreciate it god damn put your phone down ...</td>\n",
              "    </tr>\n",
              "    <tr>\n",
              "      <th>john</th>\n",
              "      <td>all right petunia wish me luck out there you will die on august   thats pretty good all right hello hello chicago nice to see you again thank you ...</td>\n",
              "    </tr>\n",
              "    <tr>\n",
              "      <th>louis</th>\n",
              "      <td>introfade the music out lets roll hold there lights do the lights thank you thank you very much i appreciate that i dont necessarily agree with yo...</td>\n",
              "    </tr>\n",
              "    <tr>\n",
              "      <th>mike</th>\n",
              "      <td>wow hey thank you thanks thank you guys hey seattle nice to see you look at this look at us were here this is crazy its insane so about five years...</td>\n",
              "    </tr>\n",
              "    <tr>\n",
              "      <th>ricky</th>\n",
              "      <td>hello hello how you doing great thank you wow calm down shut the fuck up thank you what a lovely welcome im gonna try my hardest tonight youre thi...</td>\n",
              "    </tr>\n",
              "  </tbody>\n",
              "</table>\n",
              "</div>\n",
              "      <button class=\"colab-df-convert\" onclick=\"convertToInteractive('df-f4db8644-b250-4558-bb06-4a7f50edcc40')\"\n",
              "              title=\"Convert this dataframe to an interactive table.\"\n",
              "              style=\"display:none;\">\n",
              "        \n",
              "  <svg xmlns=\"http://www.w3.org/2000/svg\" height=\"24px\"viewBox=\"0 0 24 24\"\n",
              "       width=\"24px\">\n",
              "    <path d=\"M0 0h24v24H0V0z\" fill=\"none\"/>\n",
              "    <path d=\"M18.56 5.44l.94 2.06.94-2.06 2.06-.94-2.06-.94-.94-2.06-.94 2.06-2.06.94zm-11 1L8.5 8.5l.94-2.06 2.06-.94-2.06-.94L8.5 2.5l-.94 2.06-2.06.94zm10 10l.94 2.06.94-2.06 2.06-.94-2.06-.94-.94-2.06-.94 2.06-2.06.94z\"/><path d=\"M17.41 7.96l-1.37-1.37c-.4-.4-.92-.59-1.43-.59-.52 0-1.04.2-1.43.59L10.3 9.45l-7.72 7.72c-.78.78-.78 2.05 0 2.83L4 21.41c.39.39.9.59 1.41.59.51 0 1.02-.2 1.41-.59l7.78-7.78 2.81-2.81c.8-.78.8-2.07 0-2.86zM5.41 20L4 18.59l7.72-7.72 1.47 1.35L5.41 20z\"/>\n",
              "  </svg>\n",
              "      </button>\n",
              "      \n",
              "  <style>\n",
              "    .colab-df-container {\n",
              "      display:flex;\n",
              "      flex-wrap:wrap;\n",
              "      gap: 12px;\n",
              "    }\n",
              "\n",
              "    .colab-df-convert {\n",
              "      background-color: #E8F0FE;\n",
              "      border: none;\n",
              "      border-radius: 50%;\n",
              "      cursor: pointer;\n",
              "      display: none;\n",
              "      fill: #1967D2;\n",
              "      height: 32px;\n",
              "      padding: 0 0 0 0;\n",
              "      width: 32px;\n",
              "    }\n",
              "\n",
              "    .colab-df-convert:hover {\n",
              "      background-color: #E2EBFA;\n",
              "      box-shadow: 0px 1px 2px rgba(60, 64, 67, 0.3), 0px 1px 3px 1px rgba(60, 64, 67, 0.15);\n",
              "      fill: #174EA6;\n",
              "    }\n",
              "\n",
              "    [theme=dark] .colab-df-convert {\n",
              "      background-color: #3B4455;\n",
              "      fill: #D2E3FC;\n",
              "    }\n",
              "\n",
              "    [theme=dark] .colab-df-convert:hover {\n",
              "      background-color: #434B5C;\n",
              "      box-shadow: 0px 1px 3px 1px rgba(0, 0, 0, 0.15);\n",
              "      filter: drop-shadow(0px 1px 2px rgba(0, 0, 0, 0.3));\n",
              "      fill: #FFFFFF;\n",
              "    }\n",
              "  </style>\n",
              "\n",
              "      <script>\n",
              "        const buttonEl =\n",
              "          document.querySelector('#df-f4db8644-b250-4558-bb06-4a7f50edcc40 button.colab-df-convert');\n",
              "        buttonEl.style.display =\n",
              "          google.colab.kernel.accessAllowed ? 'block' : 'none';\n",
              "\n",
              "        async function convertToInteractive(key) {\n",
              "          const element = document.querySelector('#df-f4db8644-b250-4558-bb06-4a7f50edcc40');\n",
              "          const dataTable =\n",
              "            await google.colab.kernel.invokeFunction('convertToInteractive',\n",
              "                                                     [key], {});\n",
              "          if (!dataTable) return;\n",
              "\n",
              "          const docLinkHtml = 'Like what you see? Visit the ' +\n",
              "            '<a target=\"_blank\" href=https://colab.research.google.com/notebooks/data_table.ipynb>data table notebook</a>'\n",
              "            + ' to learn more about interactive tables.';\n",
              "          element.innerHTML = '';\n",
              "          dataTable['output_type'] = 'display_data';\n",
              "          await google.colab.output.renderOutput(dataTable, element);\n",
              "          const docLink = document.createElement('div');\n",
              "          docLink.innerHTML = docLinkHtml;\n",
              "          element.appendChild(docLink);\n",
              "        }\n",
              "      </script>\n",
              "    </div>\n",
              "  </div>\n",
              "  "
            ]
          },
          "metadata": {},
          "execution_count": 32
        }
      ],
      "source": [
        "# Let's take a look at the updated text\n",
        "data_clean = pd.DataFrame(data_clean.transcript.apply(round2))\n",
        "data_clean"
      ]
    },
    {
      "cell_type": "markdown",
      "metadata": {
        "id": "hxqybtoRbI_U"
      },
      "source": [
        "## Organizing The Data"
      ]
    },
    {
      "cell_type": "markdown",
      "metadata": {
        "id": "onAukay5bI_U"
      },
      "source": [
        "### Assignment:\n",
        "1. Organized data in two standard text formats:\n",
        "   a) Corpus - corpus is a collection of texts, and they are all put together neatly in a pandas dataframe here.\n",
        "   b) Document-Term Matrix - word counts in matrix format"
      ]
    },
    {
      "cell_type": "markdown",
      "metadata": {
        "id": "HvZdXL6ubI_U"
      },
      "source": [
        "### Corpus: Example"
      ]
    },
    {
      "cell_type": "markdown",
      "metadata": {
        "id": "Sy-bi8NNbI_U"
      },
      "source": [
        "A corpus is a collection of texts, and they are all put together neatly in a pandas dataframe here."
      ]
    },
    {
      "cell_type": "code",
      "execution_count": null,
      "metadata": {
        "id": "wGHBl2EIbI_U",
        "colab": {
          "base_uri": "https://localhost:8080/"
        },
        "outputId": "720e9911-63db-4fa1-ba8c-572055b0342e"
      },
      "outputs": [
        {
          "output_type": "execute_result",
          "data": {
            "text/plain": [
              "                                                                                                                                                    transcript\n",
              "ali      Ladies and gentlemen, please welcome to the stage: Ali Wong! Hi. Hello! Welcome! Thank you! Thank you for coming. Hello! Hello. We are gonna have ...\n",
              "anthony  Thank you. Thank you. Thank you, San Francisco. Thank you so much. So good to be here. People were surprised when I told ’em I was gonna tape my s...\n",
              "bill     [cheers and applause] All right, thank you! Thank you very much! Thank you. Thank you. Thank you. How are you? What’s going on? Thank you. It’s a ...\n",
              "bo       Bo What? Old MacDonald had a farm E I E I O And on that farm he had a pig E I E I O Here a snort There a Old MacDonald had a farm E I E I O [Appla...\n",
              "dave     This is Dave. He tells dirty jokes for a living. That stare is where most of his hard work happens. It signifies a profound train of thought, the ...\n",
              "hasan    [theme music: orchestral hip-hop] [crowd roars] What’s up? Davis, what’s up? I’m home. I had to bring it back here. Netflix said, “Where do you wa...\n",
              "jim      [Car horn honks] [Audience cheering] [Announcer] Ladies and gentlemen, please welcome to the stage Mr. Jim Jefferies! [Upbeat music playing] Hello...\n",
              "joe      [rock music playing] [audience cheering] [announcer] Ladies and gentlemen, welcome Joe Rogan. [audience cheering and applauding] What the fuck is ...\n",
              "john     All right, Petunia. Wish me luck out there. You will die on August 7th, 2037. That’s pretty good. All right. Hello. Hello, Chicago. Nice to see yo...\n",
              "louis    Intro\\nFade the music out. Let’s roll. Hold there. Lights. Do the lights. Thank you. Thank you very much. I appreciate that. I don’t necessarily a...\n",
              "mike     Wow. Hey, thank you. Thanks. Thank you, guys. Hey, Seattle. Nice to see you. Look at this. Look at us. We’re here. This is crazy. It’s insane. So ...\n",
              "ricky    Hello. Hello! How you doing? Great. Thank you. Wow. Calm down. Shut the fuck up. Thank you. What a lovely welcome. I’m gonna try my hardest tonigh..."
            ],
            "text/html": [
              "\n",
              "  <div id=\"df-8cc0ff9c-e01c-470c-8fcb-06de29c0addb\">\n",
              "    <div class=\"colab-df-container\">\n",
              "      <div>\n",
              "<style scoped>\n",
              "    .dataframe tbody tr th:only-of-type {\n",
              "        vertical-align: middle;\n",
              "    }\n",
              "\n",
              "    .dataframe tbody tr th {\n",
              "        vertical-align: top;\n",
              "    }\n",
              "\n",
              "    .dataframe thead th {\n",
              "        text-align: right;\n",
              "    }\n",
              "</style>\n",
              "<table border=\"1\" class=\"dataframe\">\n",
              "  <thead>\n",
              "    <tr style=\"text-align: right;\">\n",
              "      <th></th>\n",
              "      <th>transcript</th>\n",
              "    </tr>\n",
              "  </thead>\n",
              "  <tbody>\n",
              "    <tr>\n",
              "      <th>ali</th>\n",
              "      <td>Ladies and gentlemen, please welcome to the stage: Ali Wong! Hi. Hello! Welcome! Thank you! Thank you for coming. Hello! Hello. We are gonna have ...</td>\n",
              "    </tr>\n",
              "    <tr>\n",
              "      <th>anthony</th>\n",
              "      <td>Thank you. Thank you. Thank you, San Francisco. Thank you so much. So good to be here. People were surprised when I told ’em I was gonna tape my s...</td>\n",
              "    </tr>\n",
              "    <tr>\n",
              "      <th>bill</th>\n",
              "      <td>[cheers and applause] All right, thank you! Thank you very much! Thank you. Thank you. Thank you. How are you? What’s going on? Thank you. It’s a ...</td>\n",
              "    </tr>\n",
              "    <tr>\n",
              "      <th>bo</th>\n",
              "      <td>Bo What? Old MacDonald had a farm E I E I O And on that farm he had a pig E I E I O Here a snort There a Old MacDonald had a farm E I E I O [Appla...</td>\n",
              "    </tr>\n",
              "    <tr>\n",
              "      <th>dave</th>\n",
              "      <td>This is Dave. He tells dirty jokes for a living. That stare is where most of his hard work happens. It signifies a profound train of thought, the ...</td>\n",
              "    </tr>\n",
              "    <tr>\n",
              "      <th>hasan</th>\n",
              "      <td>[theme music: orchestral hip-hop] [crowd roars] What’s up? Davis, what’s up? I’m home. I had to bring it back here. Netflix said, “Where do you wa...</td>\n",
              "    </tr>\n",
              "    <tr>\n",
              "      <th>jim</th>\n",
              "      <td>[Car horn honks] [Audience cheering] [Announcer] Ladies and gentlemen, please welcome to the stage Mr. Jim Jefferies! [Upbeat music playing] Hello...</td>\n",
              "    </tr>\n",
              "    <tr>\n",
              "      <th>joe</th>\n",
              "      <td>[rock music playing] [audience cheering] [announcer] Ladies and gentlemen, welcome Joe Rogan. [audience cheering and applauding] What the fuck is ...</td>\n",
              "    </tr>\n",
              "    <tr>\n",
              "      <th>john</th>\n",
              "      <td>All right, Petunia. Wish me luck out there. You will die on August 7th, 2037. That’s pretty good. All right. Hello. Hello, Chicago. Nice to see yo...</td>\n",
              "    </tr>\n",
              "    <tr>\n",
              "      <th>louis</th>\n",
              "      <td>Intro\\nFade the music out. Let’s roll. Hold there. Lights. Do the lights. Thank you. Thank you very much. I appreciate that. I don’t necessarily a...</td>\n",
              "    </tr>\n",
              "    <tr>\n",
              "      <th>mike</th>\n",
              "      <td>Wow. Hey, thank you. Thanks. Thank you, guys. Hey, Seattle. Nice to see you. Look at this. Look at us. We’re here. This is crazy. It’s insane. So ...</td>\n",
              "    </tr>\n",
              "    <tr>\n",
              "      <th>ricky</th>\n",
              "      <td>Hello. Hello! How you doing? Great. Thank you. Wow. Calm down. Shut the fuck up. Thank you. What a lovely welcome. I’m gonna try my hardest tonigh...</td>\n",
              "    </tr>\n",
              "  </tbody>\n",
              "</table>\n",
              "</div>\n",
              "      <button class=\"colab-df-convert\" onclick=\"convertToInteractive('df-8cc0ff9c-e01c-470c-8fcb-06de29c0addb')\"\n",
              "              title=\"Convert this dataframe to an interactive table.\"\n",
              "              style=\"display:none;\">\n",
              "        \n",
              "  <svg xmlns=\"http://www.w3.org/2000/svg\" height=\"24px\"viewBox=\"0 0 24 24\"\n",
              "       width=\"24px\">\n",
              "    <path d=\"M0 0h24v24H0V0z\" fill=\"none\"/>\n",
              "    <path d=\"M18.56 5.44l.94 2.06.94-2.06 2.06-.94-2.06-.94-.94-2.06-.94 2.06-2.06.94zm-11 1L8.5 8.5l.94-2.06 2.06-.94-2.06-.94L8.5 2.5l-.94 2.06-2.06.94zm10 10l.94 2.06.94-2.06 2.06-.94-2.06-.94-.94-2.06-.94 2.06-2.06.94z\"/><path d=\"M17.41 7.96l-1.37-1.37c-.4-.4-.92-.59-1.43-.59-.52 0-1.04.2-1.43.59L10.3 9.45l-7.72 7.72c-.78.78-.78 2.05 0 2.83L4 21.41c.39.39.9.59 1.41.59.51 0 1.02-.2 1.41-.59l7.78-7.78 2.81-2.81c.8-.78.8-2.07 0-2.86zM5.41 20L4 18.59l7.72-7.72 1.47 1.35L5.41 20z\"/>\n",
              "  </svg>\n",
              "      </button>\n",
              "      \n",
              "  <style>\n",
              "    .colab-df-container {\n",
              "      display:flex;\n",
              "      flex-wrap:wrap;\n",
              "      gap: 12px;\n",
              "    }\n",
              "\n",
              "    .colab-df-convert {\n",
              "      background-color: #E8F0FE;\n",
              "      border: none;\n",
              "      border-radius: 50%;\n",
              "      cursor: pointer;\n",
              "      display: none;\n",
              "      fill: #1967D2;\n",
              "      height: 32px;\n",
              "      padding: 0 0 0 0;\n",
              "      width: 32px;\n",
              "    }\n",
              "\n",
              "    .colab-df-convert:hover {\n",
              "      background-color: #E2EBFA;\n",
              "      box-shadow: 0px 1px 2px rgba(60, 64, 67, 0.3), 0px 1px 3px 1px rgba(60, 64, 67, 0.15);\n",
              "      fill: #174EA6;\n",
              "    }\n",
              "\n",
              "    [theme=dark] .colab-df-convert {\n",
              "      background-color: #3B4455;\n",
              "      fill: #D2E3FC;\n",
              "    }\n",
              "\n",
              "    [theme=dark] .colab-df-convert:hover {\n",
              "      background-color: #434B5C;\n",
              "      box-shadow: 0px 1px 3px 1px rgba(0, 0, 0, 0.15);\n",
              "      filter: drop-shadow(0px 1px 2px rgba(0, 0, 0, 0.3));\n",
              "      fill: #FFFFFF;\n",
              "    }\n",
              "  </style>\n",
              "\n",
              "      <script>\n",
              "        const buttonEl =\n",
              "          document.querySelector('#df-8cc0ff9c-e01c-470c-8fcb-06de29c0addb button.colab-df-convert');\n",
              "        buttonEl.style.display =\n",
              "          google.colab.kernel.accessAllowed ? 'block' : 'none';\n",
              "\n",
              "        async function convertToInteractive(key) {\n",
              "          const element = document.querySelector('#df-8cc0ff9c-e01c-470c-8fcb-06de29c0addb');\n",
              "          const dataTable =\n",
              "            await google.colab.kernel.invokeFunction('convertToInteractive',\n",
              "                                                     [key], {});\n",
              "          if (!dataTable) return;\n",
              "\n",
              "          const docLinkHtml = 'Like what you see? Visit the ' +\n",
              "            '<a target=\"_blank\" href=https://colab.research.google.com/notebooks/data_table.ipynb>data table notebook</a>'\n",
              "            + ' to learn more about interactive tables.';\n",
              "          element.innerHTML = '';\n",
              "          dataTable['output_type'] = 'display_data';\n",
              "          await google.colab.output.renderOutput(dataTable, element);\n",
              "          const docLink = document.createElement('div');\n",
              "          docLink.innerHTML = docLinkHtml;\n",
              "          element.appendChild(docLink);\n",
              "        }\n",
              "      </script>\n",
              "    </div>\n",
              "  </div>\n",
              "  "
            ]
          },
          "metadata": {},
          "execution_count": 33
        }
      ],
      "source": [
        "# Let's take a look at our dataframe\n",
        "data_df"
      ]
    },
    {
      "cell_type": "code",
      "execution_count": null,
      "metadata": {
        "id": "JauC_tUabI_V",
        "colab": {
          "base_uri": "https://localhost:8080/"
        },
        "outputId": "1407fd12-319e-4f88-ec48-5c2af975fabc"
      },
      "outputs": [
        {
          "output_type": "execute_result",
          "data": {
            "text/plain": [
              "                                                                                                                                                    transcript  \\\n",
              "ali      Ladies and gentlemen, please welcome to the stage: Ali Wong! Hi. Hello! Welcome! Thank you! Thank you for coming. Hello! Hello. We are gonna have ...   \n",
              "anthony  Thank you. Thank you. Thank you, San Francisco. Thank you so much. So good to be here. People were surprised when I told ’em I was gonna tape my s...   \n",
              "bill     [cheers and applause] All right, thank you! Thank you very much! Thank you. Thank you. Thank you. How are you? What’s going on? Thank you. It’s a ...   \n",
              "bo       Bo What? Old MacDonald had a farm E I E I O And on that farm he had a pig E I E I O Here a snort There a Old MacDonald had a farm E I E I O [Appla...   \n",
              "dave     This is Dave. He tells dirty jokes for a living. That stare is where most of his hard work happens. It signifies a profound train of thought, the ...   \n",
              "hasan    [theme music: orchestral hip-hop] [crowd roars] What’s up? Davis, what’s up? I’m home. I had to bring it back here. Netflix said, “Where do you wa...   \n",
              "jim      [Car horn honks] [Audience cheering] [Announcer] Ladies and gentlemen, please welcome to the stage Mr. Jim Jefferies! [Upbeat music playing] Hello...   \n",
              "joe      [rock music playing] [audience cheering] [announcer] Ladies and gentlemen, welcome Joe Rogan. [audience cheering and applauding] What the fuck is ...   \n",
              "john     All right, Petunia. Wish me luck out there. You will die on August 7th, 2037. That’s pretty good. All right. Hello. Hello, Chicago. Nice to see yo...   \n",
              "louis    Intro\\nFade the music out. Let’s roll. Hold there. Lights. Do the lights. Thank you. Thank you very much. I appreciate that. I don’t necessarily a...   \n",
              "mike     Wow. Hey, thank you. Thanks. Thank you, guys. Hey, Seattle. Nice to see you. Look at this. Look at us. We’re here. This is crazy. It’s insane. So ...   \n",
              "ricky    Hello. Hello! How you doing? Great. Thank you. Wow. Calm down. Shut the fuck up. Thank you. What a lovely welcome. I’m gonna try my hardest tonigh...   \n",
              "\n",
              "                full_name  \n",
              "ali              Ali Wong  \n",
              "anthony  Anthony Jeselnik  \n",
              "bill            Bill Burr  \n",
              "bo             Bo Burnham  \n",
              "dave       Dave Chappelle  \n",
              "hasan        Hasan Minhaj  \n",
              "jim         Jim Jefferies  \n",
              "joe             Joe Rogan  \n",
              "john         John Mulaney  \n",
              "louis          Louis C.K.  \n",
              "mike       Mike Birbiglia  \n",
              "ricky       Ricky Gervais  "
            ],
            "text/html": [
              "\n",
              "  <div id=\"df-0ca16b76-b554-4614-82d6-f398b7ce27cf\">\n",
              "    <div class=\"colab-df-container\">\n",
              "      <div>\n",
              "<style scoped>\n",
              "    .dataframe tbody tr th:only-of-type {\n",
              "        vertical-align: middle;\n",
              "    }\n",
              "\n",
              "    .dataframe tbody tr th {\n",
              "        vertical-align: top;\n",
              "    }\n",
              "\n",
              "    .dataframe thead th {\n",
              "        text-align: right;\n",
              "    }\n",
              "</style>\n",
              "<table border=\"1\" class=\"dataframe\">\n",
              "  <thead>\n",
              "    <tr style=\"text-align: right;\">\n",
              "      <th></th>\n",
              "      <th>transcript</th>\n",
              "      <th>full_name</th>\n",
              "    </tr>\n",
              "  </thead>\n",
              "  <tbody>\n",
              "    <tr>\n",
              "      <th>ali</th>\n",
              "      <td>Ladies and gentlemen, please welcome to the stage: Ali Wong! Hi. Hello! Welcome! Thank you! Thank you for coming. Hello! Hello. We are gonna have ...</td>\n",
              "      <td>Ali Wong</td>\n",
              "    </tr>\n",
              "    <tr>\n",
              "      <th>anthony</th>\n",
              "      <td>Thank you. Thank you. Thank you, San Francisco. Thank you so much. So good to be here. People were surprised when I told ’em I was gonna tape my s...</td>\n",
              "      <td>Anthony Jeselnik</td>\n",
              "    </tr>\n",
              "    <tr>\n",
              "      <th>bill</th>\n",
              "      <td>[cheers and applause] All right, thank you! Thank you very much! Thank you. Thank you. Thank you. How are you? What’s going on? Thank you. It’s a ...</td>\n",
              "      <td>Bill Burr</td>\n",
              "    </tr>\n",
              "    <tr>\n",
              "      <th>bo</th>\n",
              "      <td>Bo What? Old MacDonald had a farm E I E I O And on that farm he had a pig E I E I O Here a snort There a Old MacDonald had a farm E I E I O [Appla...</td>\n",
              "      <td>Bo Burnham</td>\n",
              "    </tr>\n",
              "    <tr>\n",
              "      <th>dave</th>\n",
              "      <td>This is Dave. He tells dirty jokes for a living. That stare is where most of his hard work happens. It signifies a profound train of thought, the ...</td>\n",
              "      <td>Dave Chappelle</td>\n",
              "    </tr>\n",
              "    <tr>\n",
              "      <th>hasan</th>\n",
              "      <td>[theme music: orchestral hip-hop] [crowd roars] What’s up? Davis, what’s up? I’m home. I had to bring it back here. Netflix said, “Where do you wa...</td>\n",
              "      <td>Hasan Minhaj</td>\n",
              "    </tr>\n",
              "    <tr>\n",
              "      <th>jim</th>\n",
              "      <td>[Car horn honks] [Audience cheering] [Announcer] Ladies and gentlemen, please welcome to the stage Mr. Jim Jefferies! [Upbeat music playing] Hello...</td>\n",
              "      <td>Jim Jefferies</td>\n",
              "    </tr>\n",
              "    <tr>\n",
              "      <th>joe</th>\n",
              "      <td>[rock music playing] [audience cheering] [announcer] Ladies and gentlemen, welcome Joe Rogan. [audience cheering and applauding] What the fuck is ...</td>\n",
              "      <td>Joe Rogan</td>\n",
              "    </tr>\n",
              "    <tr>\n",
              "      <th>john</th>\n",
              "      <td>All right, Petunia. Wish me luck out there. You will die on August 7th, 2037. That’s pretty good. All right. Hello. Hello, Chicago. Nice to see yo...</td>\n",
              "      <td>John Mulaney</td>\n",
              "    </tr>\n",
              "    <tr>\n",
              "      <th>louis</th>\n",
              "      <td>Intro\\nFade the music out. Let’s roll. Hold there. Lights. Do the lights. Thank you. Thank you very much. I appreciate that. I don’t necessarily a...</td>\n",
              "      <td>Louis C.K.</td>\n",
              "    </tr>\n",
              "    <tr>\n",
              "      <th>mike</th>\n",
              "      <td>Wow. Hey, thank you. Thanks. Thank you, guys. Hey, Seattle. Nice to see you. Look at this. Look at us. We’re here. This is crazy. It’s insane. So ...</td>\n",
              "      <td>Mike Birbiglia</td>\n",
              "    </tr>\n",
              "    <tr>\n",
              "      <th>ricky</th>\n",
              "      <td>Hello. Hello! How you doing? Great. Thank you. Wow. Calm down. Shut the fuck up. Thank you. What a lovely welcome. I’m gonna try my hardest tonigh...</td>\n",
              "      <td>Ricky Gervais</td>\n",
              "    </tr>\n",
              "  </tbody>\n",
              "</table>\n",
              "</div>\n",
              "      <button class=\"colab-df-convert\" onclick=\"convertToInteractive('df-0ca16b76-b554-4614-82d6-f398b7ce27cf')\"\n",
              "              title=\"Convert this dataframe to an interactive table.\"\n",
              "              style=\"display:none;\">\n",
              "        \n",
              "  <svg xmlns=\"http://www.w3.org/2000/svg\" height=\"24px\"viewBox=\"0 0 24 24\"\n",
              "       width=\"24px\">\n",
              "    <path d=\"M0 0h24v24H0V0z\" fill=\"none\"/>\n",
              "    <path d=\"M18.56 5.44l.94 2.06.94-2.06 2.06-.94-2.06-.94-.94-2.06-.94 2.06-2.06.94zm-11 1L8.5 8.5l.94-2.06 2.06-.94-2.06-.94L8.5 2.5l-.94 2.06-2.06.94zm10 10l.94 2.06.94-2.06 2.06-.94-2.06-.94-.94-2.06-.94 2.06-2.06.94z\"/><path d=\"M17.41 7.96l-1.37-1.37c-.4-.4-.92-.59-1.43-.59-.52 0-1.04.2-1.43.59L10.3 9.45l-7.72 7.72c-.78.78-.78 2.05 0 2.83L4 21.41c.39.39.9.59 1.41.59.51 0 1.02-.2 1.41-.59l7.78-7.78 2.81-2.81c.8-.78.8-2.07 0-2.86zM5.41 20L4 18.59l7.72-7.72 1.47 1.35L5.41 20z\"/>\n",
              "  </svg>\n",
              "      </button>\n",
              "      \n",
              "  <style>\n",
              "    .colab-df-container {\n",
              "      display:flex;\n",
              "      flex-wrap:wrap;\n",
              "      gap: 12px;\n",
              "    }\n",
              "\n",
              "    .colab-df-convert {\n",
              "      background-color: #E8F0FE;\n",
              "      border: none;\n",
              "      border-radius: 50%;\n",
              "      cursor: pointer;\n",
              "      display: none;\n",
              "      fill: #1967D2;\n",
              "      height: 32px;\n",
              "      padding: 0 0 0 0;\n",
              "      width: 32px;\n",
              "    }\n",
              "\n",
              "    .colab-df-convert:hover {\n",
              "      background-color: #E2EBFA;\n",
              "      box-shadow: 0px 1px 2px rgba(60, 64, 67, 0.3), 0px 1px 3px 1px rgba(60, 64, 67, 0.15);\n",
              "      fill: #174EA6;\n",
              "    }\n",
              "\n",
              "    [theme=dark] .colab-df-convert {\n",
              "      background-color: #3B4455;\n",
              "      fill: #D2E3FC;\n",
              "    }\n",
              "\n",
              "    [theme=dark] .colab-df-convert:hover {\n",
              "      background-color: #434B5C;\n",
              "      box-shadow: 0px 1px 3px 1px rgba(0, 0, 0, 0.15);\n",
              "      filter: drop-shadow(0px 1px 2px rgba(0, 0, 0, 0.3));\n",
              "      fill: #FFFFFF;\n",
              "    }\n",
              "  </style>\n",
              "\n",
              "      <script>\n",
              "        const buttonEl =\n",
              "          document.querySelector('#df-0ca16b76-b554-4614-82d6-f398b7ce27cf button.colab-df-convert');\n",
              "        buttonEl.style.display =\n",
              "          google.colab.kernel.accessAllowed ? 'block' : 'none';\n",
              "\n",
              "        async function convertToInteractive(key) {\n",
              "          const element = document.querySelector('#df-0ca16b76-b554-4614-82d6-f398b7ce27cf');\n",
              "          const dataTable =\n",
              "            await google.colab.kernel.invokeFunction('convertToInteractive',\n",
              "                                                     [key], {});\n",
              "          if (!dataTable) return;\n",
              "\n",
              "          const docLinkHtml = 'Like what you see? Visit the ' +\n",
              "            '<a target=\"_blank\" href=https://colab.research.google.com/notebooks/data_table.ipynb>data table notebook</a>'\n",
              "            + ' to learn more about interactive tables.';\n",
              "          element.innerHTML = '';\n",
              "          dataTable['output_type'] = 'display_data';\n",
              "          await google.colab.output.renderOutput(dataTable, element);\n",
              "          const docLink = document.createElement('div');\n",
              "          docLink.innerHTML = docLinkHtml;\n",
              "          element.appendChild(docLink);\n",
              "        }\n",
              "      </script>\n",
              "    </div>\n",
              "  </div>\n",
              "  "
            ]
          },
          "metadata": {},
          "execution_count": 34
        }
      ],
      "source": [
        "# Let's add the comedians' full names as well\n",
        "full_names = ['Ali Wong', 'Anthony Jeselnik', 'Bill Burr', 'Bo Burnham', 'Dave Chappelle', 'Hasan Minhaj',\n",
        "              'Jim Jefferies', 'Joe Rogan', 'John Mulaney', 'Louis C.K.', 'Mike Birbiglia', 'Ricky Gervais']\n",
        "\n",
        "data_df['full_name'] = full_names\n",
        "data_df"
      ]
    },
    {
      "cell_type": "code",
      "execution_count": null,
      "metadata": {
        "collapsed": true,
        "id": "dHm3dfTabI_V"
      },
      "outputs": [],
      "source": [
        "# Let's pickle it for later use\n",
        "data_df.to_pickle(\"corpus.pkl\")"
      ]
    },
    {
      "cell_type": "markdown",
      "metadata": {
        "id": "zG9S8DYVbI_V"
      },
      "source": [
        "### Document-Term Matrix: Example"
      ]
    },
    {
      "cell_type": "markdown",
      "metadata": {
        "id": "m-KJxQmhbI_V"
      },
      "source": [
        "For many of the techniques we'll be using in future assignment, the text must be tokenized, meaning broken down into smaller pieces. The most common tokenization technique is to break down text into words. We can do this using scikit-learn's ` CountVectorizer `, where every row will represent a different document and every column will represent a different word.\n",
        "\n",
        "In addition, with ` CountVectorizer `, we can remove stop words. Stop words are common words that add no additional meaning to text such as 'a', 'the', etc."
      ]
    },
    {
      "cell_type": "code",
      "execution_count": null,
      "metadata": {
        "id": "xjVN2YmgbI_V"
      },
      "outputs": [],
      "source": [
        "# We are going to create a document-term matrix using CountVectorizer, and exclude common English stop words\n",
        "from sklearn.feature_extraction.text import CountVectorizer\n",
        "\n",
        "cv = CountVectorizer(stop_words='english')\n",
        "data_cv = cv.fit_transform(data_clean.transcript)\n",
        "print(data_cv)\n",
        "data_dtm = pd.DataFrame(data_cv.toarray(), columns=cv.get_feature_names())\n",
        "data_dtm.index = data_clean.index\n",
        "print(data_dtm.shape)\n",
        "data_dtm\n"
      ]
    },
    {
      "cell_type": "code",
      "execution_count": null,
      "metadata": {
        "collapsed": true,
        "id": "4ibzbB8QbI_V"
      },
      "outputs": [],
      "source": [
        "# Let's pickle it for later use\n",
        "data_dtm.to_pickle(\"dtm.pkl\")"
      ]
    },
    {
      "cell_type": "code",
      "execution_count": null,
      "metadata": {
        "collapsed": true,
        "id": "G9_prmLhbI_V"
      },
      "outputs": [],
      "source": [
        "# Let's also pickle the cleaned data (before we put it in document-term matrix format) and the CountVectorizer object\n",
        "data_clean.to_pickle('data_clean.pkl')\n",
        "pickle.dump(cv, open(\"cv.pkl\", \"wb\"))"
      ]
    },
    {
      "cell_type": "markdown",
      "metadata": {
        "collapsed": true,
        "id": "uvCqaM0VbI_V"
      },
      "source": [
        "## Additional Assignments:"
      ]
    },
    {
      "cell_type": "markdown",
      "metadata": {
        "id": "CisO5NC9bI_V"
      },
      "source": [
        "1. Can you add an additional regular expression to the clean_text_round2 function to further clean the text?\n",
        "2. Play around with CountVectorizer's parameters. What is ngram_range? What is min_df and max_df?"
      ]
    },
    {
      "cell_type": "code",
      "execution_count": null,
      "metadata": {
        "collapsed": true,
        "id": "Gafki20xbI_W"
      },
      "outputs": [],
      "source": [
        "def clean_text_round2(text):\n",
        "    '''Get rid of some additional punctuation and non-sensical text that was missed the first time around.'''\n",
        "    text = re.sub('[‘’“”…]', '', text)\n",
        "    text = re.sub('\\n', '', text)\n",
        "    text = re.sub(r'\\d+', '', text) # remove all numbers\n",
        "    text = re.sub(r'\\s+', '', text) # remove wide spaces pr tabs\n",
        " #   text = re.sub(r'\\b\\w\\b', '', text) #remove single characters\n",
        "    return text\n",
        "\n",
        "round2 = lambda x: clean_text_round2(x)"
      ]
    },
    {
      "cell_type": "code",
      "source": [
        "from sklearn.feature_extraction.text import CountVectorizer\n",
        "\n",
        "cv = CountVectorizer(stop_words='english',analyzer='word', ngram_range=(1, 2))\n",
        "data_cv = cv.fit_transform(data_clean.transcript)\n",
        "data_dtm = pd.DataFrame(data_cv.toarray(), columns=cv.get_feature_names())\n",
        "data_dtm.index = data_clean.index\n",
        "data_dtm"
      ],
      "metadata": {
        "id": "0FQ-VEDOeryn"
      },
      "execution_count": null,
      "outputs": []
    },
    {
      "cell_type": "code",
      "source": [
        "from sklearn.feature_extraction.text import CountVectorizer\n",
        "\n",
        "cv = CountVectorizer(stop_words='english',analyzer='word', ngram_range=(1, 2), lowercase=False, max_df=0.8, min_df=0.2)\n",
        "data_cv = cv.fit_transform(data_clean.transcript)\n",
        "data_dtm = pd.DataFrame(data_cv.toarray(), columns=cv.get_feature_names())\n",
        "data_dtm.index = data_clean.index\n",
        "data_dtm"
      ],
      "metadata": {
        "id": "s5iccZHYjZ6C"
      },
      "execution_count": null,
      "outputs": []
    },
    {
      "cell_type": "code",
      "source": [
        "#n -gram \n",
        "#All values of n such such that min_n <= n <= max_n will be used.\n",
        "# For example an ngram_range of (1, 1) means only unigrams, (1, 2) means unigrams and bigrams, and (2, 2) means only bigrams.\n",
        "# Only applies if analyzer is not callable."
      ],
      "metadata": {
        "id": "Nk94KdjHkxaO"
      },
      "execution_count": null,
      "outputs": []
    },
    {
      "cell_type": "code",
      "source": [
        "#max df\n",
        "#When building the vocabulary ignore terms that have a document frequency strictly higher than the given threshold (corpus-specific stop words)"
      ],
      "metadata": {
        "id": "qJOnqRoPk5Mg"
      },
      "execution_count": null,
      "outputs": []
    },
    {
      "cell_type": "code",
      "source": [
        "#min df\n",
        "#When building the vocabulary ignore terms that have a document frequency strictly lower than the given threshold. "
      ],
      "metadata": {
        "id": "JK9hTAaqlJXB"
      },
      "execution_count": null,
      "outputs": []
    },
    {
      "cell_type": "code",
      "source": [
        "import re\n",
        "\n",
        "def has_10_digit_number_starting_with_9(string):\n",
        "    if(len(string)>10):\n",
        "        return False\n",
        "    return bool(re.search(r'9\\d{9}', string))\n",
        "\n"
      ],
      "metadata": {
        "id": "ZTaOzEzxlgti"
      },
      "execution_count": null,
      "outputs": []
    },
    {
      "cell_type": "code",
      "source": [
        "a='9012345600789'\n",
        "print(has_10_digit_number_starting_with_9(a))"
      ],
      "metadata": {
        "colab": {
          "base_uri": "https://localhost:8080/"
        },
        "id": "YbAH7Wb-ljfq",
        "outputId": "645ca3a0-886d-4b27-b210-351aa55f5f3f"
      },
      "execution_count": null,
      "outputs": [
        {
          "output_type": "stream",
          "name": "stdout",
          "text": [
            "False\n"
          ]
        }
      ]
    }
  ],
  "metadata": {
    "kernelspec": {
      "display_name": "Python 3 (ipykernel)",
      "language": "python",
      "name": "python3"
    },
    "language_info": {
      "codemirror_mode": {
        "name": "ipython",
        "version": 3
      },
      "file_extension": ".py",
      "mimetype": "text/x-python",
      "name": "python",
      "nbconvert_exporter": "python",
      "pygments_lexer": "ipython3",
      "version": "3.9.7"
    },
    "toc": {
      "nav_menu": {},
      "number_sections": true,
      "sideBar": true,
      "skip_h1_title": false,
      "toc_cell": false,
      "toc_position": {},
      "toc_section_display": "block",
      "toc_window_display": false
    },
    "varInspector": {
      "cols": {
        "lenName": 16,
        "lenType": 16,
        "lenVar": 40
      },
      "kernels_config": {
        "python": {
          "delete_cmd_postfix": "",
          "delete_cmd_prefix": "del ",
          "library": "var_list.py",
          "varRefreshCmd": "print(var_dic_list())"
        },
        "r": {
          "delete_cmd_postfix": ") ",
          "delete_cmd_prefix": "rm(",
          "library": "var_list.r",
          "varRefreshCmd": "cat(var_dic_list()) "
        }
      },
      "types_to_exclude": [
        "module",
        "function",
        "builtin_function_or_method",
        "instance",
        "_Feature"
      ],
      "window_display": false
    },
    "colab": {
      "provenance": []
    }
  },
  "nbformat": 4,
  "nbformat_minor": 0
}